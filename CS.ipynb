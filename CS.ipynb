{
 "cells": [
  {
   "cell_type": "code",
   "execution_count": 2,
   "id": "50c8a268",
   "metadata": {},
   "outputs": [],
   "source": [
    "# Import modules\n",
    "import os\n",
    "import sys\n",
    "sys.path.append(r'..\\Hardware_src') # Make the change according to your path\n",
    "\n",
    "# Python modules for figure visualization\n",
    "import numpy as np\n",
    "import matplotlib.pyplot as plt\n",
    "import scipy\n",
    "from scipy import io\n",
    "from scipy import signal\n",
    "import math\n",
    "import cv2\n",
    "from scipy.linalg import hadamard    \n",
    "from scipy.optimize import minimize\n",
    "from pathlib import Path\n",
    "import random\n",
    "from scipy import fft"
   ]
  },
  {
   "cell_type": "markdown",
   "id": "48517adb",
   "metadata": {},
   "source": [
    "## M = N"
   ]
  },
  {
   "cell_type": "markdown",
   "id": "c74d5ed6",
   "metadata": {},
   "source": [
    "### 1D Identity Reconstruction"
   ]
  },
  {
   "cell_type": "code",
   "execution_count": 2,
   "id": "3fe81209",
   "metadata": {},
   "outputs": [],
   "source": [
    "# Load data\n",
    "file_path = Path(os.getcwd())\n",
    "data_path = file_path.joinpath('C:/Users/russe/OneDrive - Johns Hopkins/imaging instrumentation/FinalProj')\n",
    "\n",
    "black_subtract_1d = np.loadtxt(data_path.joinpath('black_subtract_1d_59.csv'), delimiter=',')\n",
    "black_subtract_1d = black_subtract_1d.reshape(1024,1280,16)\n",
    "mask1d = np.loadtxt(data_path.joinpath('mask_1d_59.csv'), delimiter=',')\n",
    "mask1d = mask1d.reshape(16,16,16)\n",
    "scene_1d = np.loadtxt(data_path.joinpath('scene_1d_59.csv'), delimiter=',')\n",
    "scene_1d = scene_1d.reshape(1024,1280,16)"
   ]
  },
  {
   "cell_type": "code",
   "execution_count": 3,
   "id": "eb8f0467",
   "metadata": {},
   "outputs": [
    {
     "data": {
      "image/png": "[encoded data removed]",
      "text/plain": [
       "<Figure size 432x288 with 2 Axes>"
      ]
     },
     "metadata": {
      "needs_background": "light"
     },
     "output_type": "display_data"
    }
   ],
   "source": [
    "# Create Y and A matrix\n",
    "# Subtract ambient lighting\n",
    "# row in scence image, 500 - 545,\n",
    "# column in scene image, 269 - 1021, 47 for each pattern\n",
    "black_corrected = np.zeros([1024,1280])\n",
    "Y = np.zeros([16,1])\n",
    "A_1d_id = np.identity(16)\n",
    "Y_1d_id = np.zeros([16,1])\n",
    "\n",
    "for i in range(16):\n",
    "    # subtract ambient lighting\n",
    "    black_corrected[:,:] = scene_1d[:,:,i] - black_subtract_1d[:,:,i]\n",
    "    Y_1d_id[i,0] = np.sum(black_corrected[500:545,269:1021])\n",
    "\n",
    "A_inv_1d_id = np.linalg.pinv(A_1d_id, rcond=1e-1)\n",
    "X_1d_id = np.matmul(A_inv_1d_id, Y_1d_id)\n",
    "plt.imshow(np.transpose(X_1d_id), cmap='gray')\n",
    "plt.colorbar()\n",
    "plt.show()\n"
   ]
  },
  {
   "cell_type": "markdown",
   "id": "3859913f",
   "metadata": {},
   "source": [
    "### 1D Random Reconstruction"
   ]
  },
  {
   "cell_type": "code",
   "execution_count": 4,
   "id": "281c8c93",
   "metadata": {},
   "outputs": [],
   "source": [
    "# Load data\n",
    "black_subtract_1drand = np.loadtxt(data_path.joinpath('black_subtract_1drand_59.csv'), delimiter=',')\n",
    "black_subtract_1drand = black_subtract_1drand.reshape(1024,1280,16)\n",
    "mask1drand = np.loadtxt(data_path.joinpath('mask_1drand_59.csv'), delimiter=',')\n",
    "mask1drand = mask1drand.reshape(16,16,16)\n",
    "scene_1drand = np.loadtxt(data_path.joinpath('scene_1drand_59.csv'), delimiter=',')\n",
    "scene_1drand = scene_1drand.reshape(1024,1280,16)"
   ]
  },
  {
   "cell_type": "code",
   "execution_count": 5,
   "id": "39f9def9",
   "metadata": {},
   "outputs": [
    {
     "data": {
      "image/png": "[encoded data removed]",
      "text/plain": [
       "<Figure size 432x288 with 2 Axes>"
      ]
     },
     "metadata": {
      "needs_background": "light"
     },
     "output_type": "display_data"
    }
   ],
   "source": [
    "# Create Y and A matrix\n",
    "# Subtract ambient lighting\n",
    "# row in scence image, 500 - 545,\n",
    "# column in scene image, 269 - 1021, 47 for each pattern\n",
    "black_corrected = np.zeros([1024,1280])\n",
    "Y = np.zeros([16,1])\n",
    "A_1d_rand = np.zeros([16,16])\n",
    "Y_1d_rand = np.zeros([16,1])\n",
    "\n",
    "for i in range(16):\n",
    "    # subtract ambient lighting\n",
    "    black_corrected[:,:] = scene_1drand[:,:,i] - black_subtract_1drand[:,:,i]\n",
    "    Y_1d_rand[i,0] = np.sum(black_corrected[500:545,269:1021])\n",
    "    A_1d_rand[i,:] = mask1drand[8,:,i]\n",
    "\n",
    "A_inv_1d_rand = np.linalg.pinv(A_1d_rand, rcond=1e-1)\n",
    "X_1d_rand = np.matmul(A_inv_1d_rand, Y_1d_rand)\n",
    "plt.imshow(np.transpose(X_1d_rand), cmap='gray')\n",
    "plt.colorbar()\n",
    "plt.show()\n"
   ]
  },
  {
   "cell_type": "markdown",
   "id": "c2244fbc",
   "metadata": {},
   "source": [
    "### 2D Identity Reconstruction"
   ]
  },
  {
   "cell_type": "code",
   "execution_count": 11,
   "id": "777fd578",
   "metadata": {},
   "outputs": [],
   "source": [
    "# Load data\n",
    "data_path = file_path.joinpath('C:/Users/russe/OneDrive - Johns Hopkins/FinalProj')\n",
    "\n",
    "black_subtract_2d = np.loadtxt(data_path.joinpath('blackimg2_59.csv'), delimiter=',')\n",
    "black_subtract_2d = black_subtract_2d.reshape(1024,1280)\n",
    "mask2d = np.loadtxt(data_path.joinpath('mask_2d_59.csv'), delimiter=',')\n",
    "mask2d = mask2d.reshape(16,16,256)\n",
    "scene_2d = np.loadtxt(data_path.joinpath('scene_2d_59.csv'), delimiter=',')\n",
    "scene_2d = scene_2d.reshape(1024,1280,256)"
   ]
  },
  {
   "cell_type": "code",
   "execution_count": 11,
   "id": "13d9d228",
   "metadata": {},
   "outputs": [],
   "source": [
    "# Load Data\n",
    "data_path = file_path.joinpath('C:/Users/russe/OneDrive - Johns Hopkins/FinalProj')\n",
    "Y_2d_id = np.loadtxt(data_path.joinpath('Y_2d_id.csv'), delimiter=',')\n",
    "A_2d_id = np.loadtxt(data_path.joinpath('A_2d_id.csv'), delimiter=',')\n"
   ]
  },
  {
   "cell_type": "code",
   "execution_count": 14,
   "id": "1efe04b7",
   "metadata": {},
   "outputs": [
    {
     "data": {
      "image/png": "[encoded data removed]",
      "text/plain": [
       "<Figure size 432x288 with 2 Axes>"
      ]
     },
     "metadata": {
      "needs_background": "light"
     },
     "output_type": "display_data"
    }
   ],
   "source": [
    "A_inv_2d_id = np.linalg.pinv(A_2d_id, rcond=1e-1)\n",
    "X_2d_id = np.matmul(A_inv_2d_id, Y_2d_id)\n",
    "X_2d_id = X_2d_id.reshape(16,16)\n",
    "\n",
    "plt.imshow(X_2d_id, cmap='gray')\n",
    "plt.colorbar()\n",
    "plt.show()\n"
   ]
  },
  {
   "cell_type": "markdown",
   "id": "02255bf5",
   "metadata": {},
   "source": [
    "### 2D Random Reconstruction"
   ]
  },
  {
   "cell_type": "code",
   "execution_count": 22,
   "id": "75e19ead",
   "metadata": {},
   "outputs": [],
   "source": [
    "# Load data\n",
    "data_path = file_path.joinpath('C:/Users/russe/OneDrive - Johns Hopkins/FinalProj')\n",
    "scene_2drand_crop = np.loadtxt(data_path.joinpath('scene_2drand_crop.csv'), delimiter=',')\n",
    "scene_2drand_crop = scene_2drand_crop.reshape(800,850,256)\n",
    "A_2drand = np.loadtxt(data_path.joinpath('A_2d_rand.csv'), delimiter=',')\n",
    "black_subtract_2drand = np.loadtxt(data_path.joinpath('blackimg_510.csv'), delimiter=',')\n"
   ]
  },
  {
   "cell_type": "code",
   "execution_count": 98,
   "id": "6334e2b3",
   "metadata": {},
   "outputs": [
    {
     "data": {
      "image/png": "[encoded data removed]",
      "text/plain": [
       "<Figure size 432x288 with 2 Axes>"
      ]
     },
     "metadata": {
      "needs_background": "light"
     },
     "output_type": "display_data"
    }
   ],
   "source": [
    "Y_2drand = np.zeros([256,1])\n",
    "for i in range(256):\n",
    "    Y_2drand[i,0] = np.sum(scene_2drand_crop[:,:,i] - black_subtract_2drand[100:900,200:1050])\n",
    "\n",
    "A_inv_2drand = np.linalg.pinv(A_2drand, rcond=1e-1)\n",
    "X_2drand = np.matmul(A_inv_2drand, Y_2drand)\n",
    "X_2drand = X_2drand.reshape(16,16)\n",
    "\n",
    "plt.imshow(X_2drand, cmap='gray')\n",
    "plt.colorbar()\n",
    "plt.show()\n"
   ]
  },
  {
   "cell_type": "markdown",
   "id": "481442f3",
   "metadata": {},
   "source": [
    "## M << N - Using L1 norm"
   ]
  },
  {
   "cell_type": "markdown",
   "id": "f9913b76",
   "metadata": {},
   "source": [
    "### 2D Identity Reconstruction"
   ]
  },
  {
   "cell_type": "code",
   "execution_count": 85,
   "id": "387fabc3",
   "metadata": {},
   "outputs": [],
   "source": [
    "Y_2d_id = np.loadtxt('C:/Users/kambl/Johns Hopkins/Siya Zhang - Lab data/FinalProj/Y_2d_id.csv', delimiter=',')\n",
    "A_2d_id = np.loadtxt('C:/Users/kambl/Johns Hopkins/Siya Zhang - Lab data/FinalProj/A_2d_id.csv', delimiter=',')\n",
    "Y_2drand = np.loadtxt('C:/Users/kambl/Johns Hopkins/Siya Zhang - Lab data/FinalProj/Y_2drand.csv', delimiter=',')\n",
    "A_2drand = np.loadtxt('C:/Users/kambl/Johns Hopkins/Siya Zhang - Lab data/FinalProj/A_2d_rand.csv', delimiter=',')"
   ]
  },
  {
   "cell_type": "code",
   "execution_count": 88,
   "id": "82936b35",
   "metadata": {},
   "outputs": [
    {
     "data": {
      "image/png": "[encoded data removed]",
      "text/plain": [
       "<Figure size 432x288 with 2 Axes>"
      ]
     },
     "metadata": {
      "needs_background": "light"
     },
     "output_type": "display_data"
    }
   ],
   "source": [
    "# Generate sparse matrices\n",
    "M = 32 # 25% of original data\n",
    "N = 256\n",
    "sparse_ind = random.sample(range(N),M)\n",
    "\n",
    "sparse_Y_id = Y_2d_id[sparse_ind]\n",
    "sparse_A_id = A_2d_id[sparse_ind]\n",
    "\n",
    "# Calculate Theta\n",
    "Phi  = sparse_A_id\n",
    "Theta = np.zeros([M,N])\n",
    "mat = np.identity(N)\n",
    "for i in range(256):\n",
    "    psi = scipy.fft.idctn(mat[i,:], type=2)\n",
    "    psi = np.transpose(psi.reshape(N))\n",
    "    Theta[:,i] = Phi@psi\n",
    "\n",
    "# Compressed Sensing Alg 1\n",
    "# Solve y = A*x for x using L1 minimum norm solution\n",
    "def L1_norm(x):\n",
    "    return np.linalg.norm(x, ord=1)\n",
    "\n",
    "# Set constraints for optimization\n",
    "constr = ({'type': 'eq', 'fun': lambda x: Theta @ x - sparse_Y_id})\n",
    "\n",
    "# Initialize minimization with L2 solution\n",
    "x0 = np.linalg.pinv(Theta) @ sparse_Y_id\n",
    "res = minimize(L1_norm, x0, method='SLSQP', constraints=constr)\n",
    "x_L1 = res.x\n",
    "x_L1 = x_L1.reshape(16,16)\n",
    "x0 = x0.reshape(16,16)\n",
    "\n",
    "plt.imshow(x_L1, cmap='gray')\n",
    "plt.colorbar()\n",
    "plt.title(\"2D Identity Reconstruction M=32, N=256\")\n",
    "plt.show()\n",
    "\n",
    "\n"
   ]
  },
  {
   "cell_type": "code",
   "execution_count": 89,
   "id": "e22d2bdc",
   "metadata": {},
   "outputs": [
    {
     "data": {
      "image/png": "[encoded data removed]",
      "text/plain": [
       "<Figure size 432x288 with 2 Axes>"
      ]
     },
     "metadata": {
      "needs_background": "light"
     },
     "output_type": "display_data"
    }
   ],
   "source": [
    "# Generate sparse matrices\n",
    "M = 64 # 25% of original data\n",
    "N = 256\n",
    "sparse_ind = random.sample(range(N),M)\n",
    "\n",
    "sparse_Y_id = Y_2d_id[sparse_ind]\n",
    "sparse_A_id = A_2d_id[sparse_ind]\n",
    "\n",
    "# Calculate Theta\n",
    "Phi  = sparse_A_id\n",
    "Theta = np.zeros([M,N])\n",
    "mat = np.identity(N)\n",
    "for i in range(256):\n",
    "    psi = scipy.fft.idctn(mat[i,:], type=2)\n",
    "    psi = np.transpose(psi.reshape(N))\n",
    "    Theta[:,i] = Phi@psi\n",
    "\n",
    "# Compressed Sensing Alg 1\n",
    "# Solve y = A*x for x using L1 minimum norm solution\n",
    "def L1_norm(x):\n",
    "    return np.linalg.norm(x, ord=1)\n",
    "\n",
    "# Set constraints for optimization\n",
    "constr = ({'type': 'eq', 'fun': lambda x: Theta @ x - sparse_Y_id})\n",
    "\n",
    "# Initialize minimization with L2 solution\n",
    "x0 = np.linalg.pinv(Theta) @ sparse_Y_id\n",
    "res = minimize(L1_norm, x0, method='SLSQP', constraints=constr)\n",
    "x_L1 = res.x\n",
    "x_L1 = x_L1.reshape(16,16)\n",
    "x0 = x0.reshape(16,16)\n",
    "\n",
    "plt.imshow(x_L1, cmap='gray')\n",
    "plt.colorbar()\n",
    "plt.title(\"2D Identity Reconstruction M=64, N=256\")\n",
    "plt.show()\n",
    "\n"
   ]
  },
  {
   "cell_type": "code",
   "execution_count": 90,
   "id": "0db9f6dc",
   "metadata": {},
   "outputs": [
    {
     "data": {
      "image/png": "[encoded data removed]",
      "text/plain": [
       "<Figure size 432x288 with 2 Axes>"
      ]
     },
     "metadata": {
      "needs_background": "light"
     },
     "output_type": "display_data"
    }
   ],
   "source": [
    "# Generate sparse matrices\n",
    "M = 96 # 25% of original data\n",
    "N = 256\n",
    "sparse_ind = random.sample(range(N),M)\n",
    "\n",
    "sparse_Y_id = Y_2d_id[sparse_ind]\n",
    "sparse_A_id = A_2d_id[sparse_ind]\n",
    "\n",
    "# Calculate Theta\n",
    "Phi  = sparse_A_id\n",
    "Theta = np.zeros([M,N])\n",
    "mat = np.identity(N)\n",
    "for i in range(256):\n",
    "    psi = scipy.fft.idctn(mat[i,:], type=2)\n",
    "    psi = np.transpose(psi.reshape(N))\n",
    "    Theta[:,i] = Phi@psi\n",
    "\n",
    "# Compressed Sensing Alg 1\n",
    "# Solve y = A*x for x using L1 minimum norm solution\n",
    "def L1_norm(x):\n",
    "    return np.linalg.norm(x, ord=1)\n",
    "\n",
    "# Set constraints for optimization\n",
    "constr = ({'type': 'eq', 'fun': lambda x: Theta @ x - sparse_Y_id})\n",
    "\n",
    "# Initialize minimization with L2 solution\n",
    "x0 = np.linalg.pinv(Theta) @ sparse_Y_id\n",
    "res = minimize(L1_norm, x0, method='SLSQP', constraints=constr)\n",
    "x_L1 = res.x\n",
    "x_L1 = x_L1.reshape(16,16)\n",
    "x0 = x0.reshape(16,16)\n",
    "\n",
    "plt.imshow(x_L1, cmap='gray')\n",
    "plt.colorbar()\n",
    "plt.title(\"2D Identity Reconstruction M=96, N=256\")\n",
    "plt.show()\n"
   ]
  },
  {
   "cell_type": "code",
   "execution_count": 91,
   "id": "7158b989",
   "metadata": {},
   "outputs": [
    {
     "data": {
      "image/png": "[encoded data removed]",
      "text/plain": [
       "<Figure size 432x288 with 2 Axes>"
      ]
     },
     "metadata": {
      "needs_background": "light"
     },
     "output_type": "display_data"
    }
   ],
   "source": [
    "# Generate sparse matrices\n",
    "M = 128 # 25% of original data\n",
    "N = 256\n",
    "sparse_ind = random.sample(range(N),M)\n",
    "\n",
    "sparse_Y_id = Y_2d_id[sparse_ind]\n",
    "sparse_A_id = A_2d_id[sparse_ind]\n",
    "\n",
    "# Calculate Theta\n",
    "Phi  = sparse_A_id\n",
    "Theta = np.zeros([M,N])\n",
    "mat = np.identity(N)\n",
    "for i in range(256):\n",
    "    psi = scipy.fft.idctn(mat[i,:], type=3)\n",
    "    psi = np.transpose(psi.reshape(N))\n",
    "    Theta[:,i] = Phi@psi\n",
    "\n",
    "# Compressed Sensing Alg 1\n",
    "# Solve y = A*x for x using L1 minimum norm solution\n",
    "def L1_norm(x):\n",
    "    return np.linalg.norm(x, ord=1)\n",
    "\n",
    "# Set constraints for optimization\n",
    "constr = ({'type': 'eq', 'fun': lambda x: Theta @ x - sparse_Y_id})\n",
    "\n",
    "# Initialize minimization with L2 solution\n",
    "x0 = np.linalg.pinv(Theta) @ sparse_Y_id\n",
    "res = minimize(L1_norm, x0, method='SLSQP', constraints=constr)\n",
    "x_L1 = res.x\n",
    "x_L1 = x_L1.reshape(16,16)\n",
    "x0 = x0.reshape(16,16)\n",
    "\n",
    "plt.imshow(x_L1, cmap='gray')\n",
    "plt.colorbar()\n",
    "plt.title(\"2D Identity Reconstruction M=128, N=256\")\n",
    "plt.show()\n"
   ]
  },
  {
   "cell_type": "markdown",
   "id": "f207da0d",
   "metadata": {},
   "source": [
    "### 2D Random Speckle Reconstruction"
   ]
  },
  {
   "cell_type": "code",
   "execution_count": 92,
   "id": "019c7c97",
   "metadata": {},
   "outputs": [
    {
     "data": {
      "image/png": "[encoded data removed]",
      "text/plain": [
       "<Figure size 432x288 with 2 Axes>"
      ]
     },
     "metadata": {
      "needs_background": "light"
     },
     "output_type": "display_data"
    }
   ],
   "source": [
    "# Generate sparse matrices\n",
    "M = 32\n",
    "N = 256\n",
    "sparse_ind = random.sample(range(N),M)\n",
    "\n",
    "sparse_Yrand = Y_2drand[sparse_ind]\n",
    "sparse_Arand = A_2drand[sparse_ind]\n",
    "\n",
    "Phi  = sparse_Arand\n",
    "Theta = np.zeros([M,N])\n",
    "mat = np.identity(N)\n",
    "for i in range(256):\n",
    "    psi = scipy.fft.idctn(mat[i,:], type=3)\n",
    "    psi = np.transpose(psi.reshape(N))\n",
    "    Theta[:,i] = Phi@psi\n",
    "\n",
    "# Compressed Sensing Alg 1\n",
    "# Solve y = A*x for x using L1 minimum norm solution\n",
    "def L1_norm(x):\n",
    "    return np.linalg.norm(x, ord=1)\n",
    "\n",
    "# Set constraints for optimization\n",
    "constr = ({'type': 'eq', 'fun': lambda x: Theta @ x - sparse_Yrand})\n",
    "\n",
    "# initialize minimization with L2 solution\n",
    "x0 = np.linalg.pinv(Theta) @ sparse_Yrand\n",
    "res = minimize(L1_norm, x0, method='SLSQP', constraints=constr)\n",
    "x_L1 = res.x\n",
    "x_L1 = x_L1.reshape(16,16)\n",
    "\n",
    "plt.imshow(x_L1, cmap='gray')\n",
    "plt.colorbar()\n",
    "plt.title(\"2D Random Reconstruction M=32, N=256\")\n",
    "plt.show()\n"
   ]
  },
  {
   "cell_type": "code",
   "execution_count": 93,
   "id": "37ca27ef",
   "metadata": {},
   "outputs": [
    {
     "data": {
      "image/png": "[encoded data removed]",
      "text/plain": [
       "<Figure size 432x288 with 2 Axes>"
      ]
     },
     "metadata": {
      "needs_background": "light"
     },
     "output_type": "display_data"
    }
   ],
   "source": [
    "# Generate sparse matrices\n",
    "M = 64\n",
    "N = 256\n",
    "sparse_ind = random.sample(range(N),M)\n",
    "\n",
    "sparse_Yrand = Y_2drand[sparse_ind]\n",
    "sparse_Arand = A_2drand[sparse_ind]\n",
    "\n",
    "Phi  = sparse_Arand\n",
    "Theta = np.zeros([M,N])\n",
    "mat = np.identity(N)\n",
    "for i in range(256):\n",
    "    psi = scipy.fft.idctn(mat[i,:], type=3)\n",
    "    psi = np.transpose(psi.reshape(N))\n",
    "    Theta[:,i] = Phi@psi\n",
    "\n",
    "# Compressed Sensing Alg 1\n",
    "# Solve y = A*x for x using L1 minimum norm solution\n",
    "def L1_norm(x):\n",
    "    return np.linalg.norm(x, ord=1)\n",
    "\n",
    "# Set constraints for optimization\n",
    "constr = ({'type': 'eq', 'fun': lambda x: Theta @ x - sparse_Yrand})\n",
    "\n",
    "# initialize minimization with L2 solution\n",
    "x0 = np.linalg.pinv(Theta) @ sparse_Yrand\n",
    "res = minimize(L1_norm, x0, method='SLSQP', constraints=constr)\n",
    "x_L1 = res.x\n",
    "x_L1 = x_L1.reshape(16,16)\n",
    "\n",
    "plt.imshow(x_L1, cmap='gray')\n",
    "plt.colorbar()\n",
    "plt.title(\"2D Random Reconstruction M=64, N=256\")\n",
    "plt.show()\n"
   ]
  },
  {
   "cell_type": "code",
   "execution_count": 96,
   "id": "0bc860fb",
   "metadata": {},
   "outputs": [
    {
     "data": {
      "image/png": "[encoded data removed]",
      "text/plain": [
       "<Figure size 432x288 with 2 Axes>"
      ]
     },
     "metadata": {
      "needs_background": "light"
     },
     "output_type": "display_data"
    }
   ],
   "source": [
    "# Generate sparse matrices\n",
    "M = 96\n",
    "N = 256\n",
    "sparse_ind = random.sample(range(N),M)\n",
    "\n",
    "sparse_Yrand = Y_2drand[sparse_ind]\n",
    "sparse_Arand = A_2drand[sparse_ind]\n",
    "\n",
    "Phi  = sparse_Arand\n",
    "Theta = np.zeros([M,N])\n",
    "mat = np.identity(N)\n",
    "for i in range(256):\n",
    "    psi = scipy.fft.idctn(mat[i,:], type=3)\n",
    "    psi = np.transpose(psi.reshape(N))\n",
    "    Theta[:,i] = Phi@psi\n",
    "\n",
    "# Compressed Sensing Alg 1\n",
    "# Solve y = A*x for x using L1 minimum norm solution\n",
    "def L1_norm(x):\n",
    "    return np.linalg.norm(x, ord=1)\n",
    "\n",
    "# Set constraints for optimization\n",
    "constr = ({'type': 'eq', 'fun': lambda x: Theta @ x - sparse_Yrand})\n",
    "\n",
    "# initialize minimization with L2 solution\n",
    "x0 = np.linalg.pinv(Theta) @ sparse_Yrand\n",
    "res = minimize(L1_norm, x0, method='SLSQP', constraints=constr)\n",
    "x_L1 = res.x\n",
    "x_L1 = x_L1.reshape(16,16)\n",
    "\n",
    "plt.imshow(x_L1, cmap='gray')\n",
    "plt.colorbar()\n",
    "plt.title(\"2D Random Reconstruction M=96, N=256\")\n",
    "plt.show()\n"
   ]
  },
  {
   "cell_type": "code",
   "execution_count": 95,
   "id": "98607362",
   "metadata": {},
   "outputs": [
    {
     "data": {
      "image/png": "[encoded data removed]",
      "text/plain": [
       "<Figure size 432x288 with 2 Axes>"
      ]
     },
     "metadata": {
      "needs_background": "light"
     },
     "output_type": "display_data"
    }
   ],
   "source": [
    "# Generate sparse matrices\n",
    "M = 128\n",
    "N = 256\n",
    "sparse_ind = random.sample(range(N),M)\n",
    "\n",
    "sparse_Yrand = Y_2drand[sparse_ind]\n",
    "sparse_Arand = A_2drand[sparse_ind]\n",
    "\n",
    "Phi  = sparse_Arand\n",
    "Theta = np.zeros([M,N])\n",
    "mat = np.identity(N)\n",
    "for i in range(256):\n",
    "    psi = scipy.fft.idctn(mat[i,:], type=3)\n",
    "    psi = np.transpose(psi.reshape(N))\n",
    "    Theta[:,i] = Phi@psi\n",
    "\n",
    "# Compressed Sensing Alg 1\n",
    "# Solve y = A*x for x using L1 minimum norm solution\n",
    "def L1_norm(x):\n",
    "    return np.linalg.norm(x, ord=1)\n",
    "\n",
    "# Set constraints for optimization\n",
    "constr = ({'type': 'eq', 'fun': lambda x: Theta @ x - sparse_Yrand})\n",
    "\n",
    "# initialize minimization with L2 solution\n",
    "x0 = np.linalg.pinv(Theta) @ sparse_Yrand\n",
    "res = minimize(L1_norm, x0, method='SLSQP', constraints=constr)\n",
    "x_L1 = res.x\n",
    "x_L1 = x_L1.reshape(16,16)\n",
    "\n",
    "plt.imshow(x_L1, cmap='gray')\n",
    "plt.colorbar()\n",
    "plt.title(\"2D Random Reconstruction M=128, N=256\")\n",
    "plt.show()\n"
   ]
  },
  {
   "cell_type": "code",
   "execution_count": null,
   "id": "ce7bc371",
   "metadata": {},
   "outputs": [],
   "source": [
    "#np.savetxt('M=128_N=256_rdm.csv',x_L1,delimiter=',')"
   ]
  }
 ],
 "metadata": {
  "interpreter": {
   "hash": "1c3532f7f66afc7bbca14b0ba7480be72c58d62eb8124ebf6ff724bceb86a354"
  },
  "kernelspec": {
   "display_name": "Python 3",
   "language": "python",
   "name": "python3"
  },
  "language_info": {
   "codemirror_mode": {
    "name": "ipython",
    "version": 3
   },
   "file_extension": ".py",
   "mimetype": "text/x-python",
   "name": "python",
   "nbconvert_exporter": "python",
   "pygments_lexer": "ipython3",
   "version": "3.8.8"
  }
 },
 "nbformat": 4,
 "nbformat_minor": 5
}
