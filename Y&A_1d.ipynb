{
 "cells": [
  {
   "cell_type": "code",
   "execution_count": 1,
   "id": "4b1a8371",
   "metadata": {},
   "outputs": [],
   "source": [
    "# Python modules for figure visualization\n",
    "import numpy as np\n",
    "import matplotlib.pyplot as plt\n",
    "import scipy\n",
    "from scipy import io\n",
    "from scipy import signal\n",
    "import math\n",
    "import cv2\n",
    "from scipy.linalg import hadamard    \n",
    "import pandas as pd"
   ]
  },
  {
   "cell_type": "code",
   "execution_count": 2,
   "id": "b5f177af",
   "metadata": {},
   "outputs": [],
   "source": [
    "# FOR 1-D Identity\n",
    "scene = np.loadtxt('C:/Users/kambl/Johns Hopkins/Siya Zhang - Lab data/FinalProj/scene_1d.csv', delimiter=',')\n",
    "bs = np.loadtxt('C:/Users/kambl/Johns Hopkins/Siya Zhang - Lab data/FinalProj/black_subtract_1d.csv', delimiter=',')\n",
    "masks_1d_id = np.loadtxt('C:/Users/kambl/Johns Hopkins/Siya Zhang - Lab data/FinalProj/mask_1d_59.csv', delimiter=',')"
   ]
  },
  {
   "cell_type": "code",
   "execution_count": 3,
   "id": "9325165d",
   "metadata": {},
   "outputs": [
    {
     "data": {
      "text/plain": [
       "(1024, 1280, 16)"
      ]
     },
     "execution_count": 3,
     "metadata": {},
     "output_type": "execute_result"
    }
   ],
   "source": [
    "bs = bs.reshape(1024,1280,16)\n",
    "scene = scene.reshape(1024,1280,16)\n",
    "y = scene - bs\n",
    "y.shape"
   ]
  },
  {
   "cell_type": "code",
   "execution_count": 4,
   "id": "5533f367",
   "metadata": {},
   "outputs": [],
   "source": [
    "# row in scence image, 500 - 545,\n",
    "# column in scene image, 269 - 1021, 47 for each pattern\n",
    "A_1d_id = np.identity(16)\n",
    "Y_1d_id = np.zeros([16,1])\n",
    "#black_init = np.copy(init[500:545,269:1021])\n",
    "#X = np.zeros([16,1]) \n",
    "#j = 0\n",
    "for i in range(16):\n",
    "    Y_1d_id[i,0] = np.sum(y[500:545,269:1021,i])\n",
    "    #X[i,0] = np.sum(black_init[:,j:j+47])\n",
    "    #j += 47\n",
    "    "
   ]
  },
  {
   "cell_type": "code",
   "execution_count": 5,
   "id": "15c72d15",
   "metadata": {},
   "outputs": [
    {
     "data": {
      "text/plain": [
       "<matplotlib.image.AxesImage at 0x214b4af64f0>"
      ]
     },
     "execution_count": 5,
     "metadata": {},
     "output_type": "execute_result"
    },
    {
     "data": {
      "image/png": "[encoded data removed]",
      "text/plain": [
       "<Figure size 432x288 with 1 Axes>"
      ]
     },
     "metadata": {
      "needs_background": "light"
     },
     "output_type": "display_data"
    }
   ],
   "source": [
    "plt.imshow(np.transpose(Y_1d_id), cmap='gray')"
   ]
  },
  {
   "cell_type": "code",
   "execution_count": 6,
   "id": "a7aef6f4",
   "metadata": {},
   "outputs": [
    {
     "data": {
      "text/plain": [
       "<matplotlib.image.AxesImage at 0x2149c6cc8b0>"
      ]
     },
     "execution_count": 6,
     "metadata": {},
     "output_type": "execute_result"
    },
    {
     "data": {
      "image/png": "[encoded data removed]",
      "text/plain": [
       "<Figure size 432x288 with 1 Axes>"
      ]
     },
     "metadata": {
      "needs_background": "light"
     },
     "output_type": "display_data"
    }
   ],
   "source": [
    "plt.imshow(A_1d_id, cmap='gray')"
   ]
  },
  {
   "cell_type": "code",
   "execution_count": 7,
   "id": "e7d0fa9c",
   "metadata": {},
   "outputs": [],
   "source": [
    "ab = np.linalg.pinv(A_1d_id, rcond=1e-1)\n",
    "xhat = np.matmul(ab,Y_1d_id)"
   ]
  },
  {
   "cell_type": "code",
   "execution_count": 8,
   "id": "426c1dc4",
   "metadata": {},
   "outputs": [
    {
     "data": {
      "text/plain": [
       "<matplotlib.image.AxesImage at 0x214a52610d0>"
      ]
     },
     "execution_count": 8,
     "metadata": {},
     "output_type": "execute_result"
    },
    {
     "data": {
      "image/png": "[encoded data removed]",
      "text/plain": [
       "<Figure size 432x288 with 1 Axes>"
      ]
     },
     "metadata": {
      "needs_background": "light"
     },
     "output_type": "display_data"
    }
   ],
   "source": [
    "plt.imshow(np.transpose(xhat), cmap='gray')"
   ]
  },
  {
   "cell_type": "code",
   "execution_count": 9,
   "id": "708f46ce",
   "metadata": {},
   "outputs": [],
   "source": [
    "masks_1d_rand = np.loadtxt('C:/Users/kambl/Johns Hopkins/Siya Zhang - Lab data/FinalProj/mask_1drand_59.csv', delimiter=',')"
   ]
  },
  {
   "cell_type": "code",
   "execution_count": 10,
   "id": "13702703",
   "metadata": {},
   "outputs": [],
   "source": [
    "# FOR 1-D Random\n",
    "scene_1d_rand = np.loadtxt('C:/Users/kambl/Johns Hopkins/Siya Zhang - Lab data/FinalProj/scene_1drand_59.csv', delimiter=',')\n",
    "b_1d_rand = np.loadtxt('C:/Users/kambl/Johns Hopkins/Siya Zhang - Lab data/FinalProj/black_subtract_1drand_59.csv', delimiter=',')\n",
    "masks_1d_rand = np.loadtxt('C:/Users/kambl/Johns Hopkins/Siya Zhang - Lab data/FinalProj/mask_1drand_59.csv', delimiter=',')"
   ]
  },
  {
   "cell_type": "code",
   "execution_count": 11,
   "id": "df105f82",
   "metadata": {},
   "outputs": [],
   "source": [
    "masks_1d_rand = masks_1d_rand.reshape(16,16,16)\n",
    "A_1d_rand = np.zeros([16,16])\n",
    "for i in range(16):\n",
    "    A_1d_rand[i,:] = masks_1d_rand[8,:,i]"
   ]
  },
  {
   "cell_type": "code",
   "execution_count": 12,
   "id": "2c1cf547",
   "metadata": {},
   "outputs": [
    {
     "data": {
      "text/plain": [
       "(1024, 1280, 16)"
      ]
     },
     "execution_count": 12,
     "metadata": {},
     "output_type": "execute_result"
    }
   ],
   "source": [
    "b_1d_rand = b_1d_rand.reshape(1024,1280,16)\n",
    "scene_1d_rand = scene_1d_rand.reshape(1024,1280,16)\n",
    "y_1d_rand = scene_1d_rand - b_1d_rand\n",
    "y_1d_rand.shape"
   ]
  },
  {
   "cell_type": "code",
   "execution_count": 13,
   "id": "afc66fa5",
   "metadata": {},
   "outputs": [],
   "source": [
    "# row in scence image, 478 - 522,\n",
    "# column in scene image, 263 - 1015, 47 for each pattern\n",
    "A = masks_1d_rand.reshape(16,16,16)\n",
    "Y_1d_rand = np.zeros([16,1])\n",
    "\n",
    "for i in range(16):\n",
    "    Y_1d_rand[i,0] = np.sum(y_1d_rand[478:522,263:1015,i])"
   ]
  },
  {
   "cell_type": "code",
   "execution_count": 14,
   "id": "e359b79b",
   "metadata": {},
   "outputs": [
    {
     "data": {
      "text/plain": [
       "<matplotlib.image.AxesImage at 0x214a9810970>"
      ]
     },
     "execution_count": 14,
     "metadata": {},
     "output_type": "execute_result"
    },
    {
     "data": {
      "image/png": "[encoded data removed]",
      "text/plain": [
       "<Figure size 432x288 with 1 Axes>"
      ]
     },
     "metadata": {
      "needs_background": "light"
     },
     "output_type": "display_data"
    }
   ],
   "source": [
    "plt.imshow(np.transpose(Y_1d_rand), cmap='gray')"
   ]
  },
  {
   "cell_type": "code",
   "execution_count": 15,
   "id": "5979d966",
   "metadata": {},
   "outputs": [
    {
     "data": {
      "text/plain": [
       "<matplotlib.image.AxesImage at 0x214d46872b0>"
      ]
     },
     "execution_count": 15,
     "metadata": {},
     "output_type": "execute_result"
    },
    {
     "data": {
      "image/png": "[encoded data removed]",
      "text/plain": [
       "<Figure size 432x288 with 1 Axes>"
      ]
     },
     "metadata": {
      "needs_background": "light"
     },
     "output_type": "display_data"
    }
   ],
   "source": [
    "plt.imshow(A_1d_rand, cmap='gray')"
   ]
  },
  {
   "cell_type": "code",
   "execution_count": 16,
   "id": "d6d7c826",
   "metadata": {},
   "outputs": [],
   "source": [
    "ab = np.linalg.pinv(A_1d_rand, rcond=1e-1)\n",
    "xhat = np.matmul(ab,Y_1d_rand)"
   ]
  },
  {
   "cell_type": "code",
   "execution_count": 17,
   "id": "a8abc53c",
   "metadata": {},
   "outputs": [
    {
     "data": {
      "text/plain": [
       "<matplotlib.image.AxesImage at 0x214904abe50>"
      ]
     },
     "execution_count": 17,
     "metadata": {},
     "output_type": "execute_result"
    },
    {
     "data": {
      "image/png": "[encoded data removed]",
      "text/plain": [
       "<Figure size 432x288 with 1 Axes>"
      ]
     },
     "metadata": {
      "needs_background": "light"
     },
     "output_type": "display_data"
    }
   ],
   "source": [
    "plt.imshow(np.transpose(xhat), cmap='gray')"
   ]
  },
  {
   "cell_type": "code",
   "execution_count": 18,
   "id": "6c5fe495",
   "metadata": {},
   "outputs": [
    {
     "data": {
      "text/plain": [
       "<matplotlib.image.AxesImage at 0x21493ed3760>"
      ]
     },
     "execution_count": 18,
     "metadata": {},
     "output_type": "execute_result"
    },
    {
     "data": {
      "image/png": "[encoded data removed]",
      "text/plain": [
       "<Figure size 432x288 with 1 Axes>"
      ]
     },
     "metadata": {
      "needs_background": "light"
     },
     "output_type": "display_data"
    }
   ],
   "source": [
    "plt.imshow(ab, cmap='gray')"
   ]
  },
  {
   "cell_type": "code",
   "execution_count": 19,
   "id": "41a2face",
   "metadata": {},
   "outputs": [],
   "source": [
    "# np.savetxt('Y_1d_id.csv',Y_1d_id,delimiter=',')\n",
    "# np.savetxt('A_1d_id.csv',A_1d_id,delimiter=',')\n",
    "# np.savetxt('Y_1d_rand.csv',Y_1d_rand,delimiter=',')\n",
    "# np.savetxt('A_1d_rand.csv',A_1d_rand,delimiter=',')"
   ]
  }
 ],
 "metadata": {
  "kernelspec": {
   "display_name": "Python 3",
   "language": "python",
   "name": "python3"
  },
  "language_info": {
   "codemirror_mode": {
    "name": "ipython",
    "version": 3
   },
   "file_extension": ".py",
   "mimetype": "text/x-python",
   "name": "python",
   "nbconvert_exporter": "python",
   "pygments_lexer": "ipython3",
   "version": "3.8.8"
  }
 },
 "nbformat": 4,
 "nbformat_minor": 5
}
