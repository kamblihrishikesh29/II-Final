{
 "cells": [
  {
   "cell_type": "code",
   "execution_count": 55,
   "id": "56064400",
   "metadata": {},
   "outputs": [],
   "source": [
    "import os\n",
    "import sys\n",
    "# Python modules for figure visualization\n",
    "import numpy as np\n",
    "import matplotlib.pyplot as plt\n",
    "import scipy\n",
    "from scipy import io\n",
    "from scipy import signal\n",
    "import math\n",
    "import cv2\n",
    "from scipy.linalg import hadamard    \n",
    "import pandas as pd\n",
    "from sklearn.metrics import mean_squared_error as mse"
   ]
  },
  {
   "cell_type": "code",
   "execution_count": 4,
   "id": "97a2025b",
   "metadata": {},
   "outputs": [],
   "source": [
    "os.chdir('C:\\\\Users\\siyaz\\OneDrive - Johns Hopkins\\Documents\\Hopkins\\Year 5.2\\Imaging Instrumentation\\Lab data\\FinalProj')"
   ]
  },
  {
   "cell_type": "code",
   "execution_count": 5,
   "id": "5d3094c0",
   "metadata": {},
   "outputs": [],
   "source": [
    "whiteimgo = np.loadtxt('whiteimg_59.csv',delimiter=',')\n",
    "blackimg1o = np.loadtxt('blackimg_59.csv',delimiter=',')\n",
    "blackimg2o = np.loadtxt('blackimg2_59.csv',delimiter=',')"
   ]
  },
  {
   "cell_type": "code",
   "execution_count": null,
   "id": "8715c85c",
   "metadata": {},
   "outputs": [],
   "source": [
    "whiteimg1 = np.loadtxt('whiteimg_510.csv',delimiter=',')\n",
    "whiteimg2 = np.loadtxt('whiteimg2_510.csv',delimiter=',')\n",
    "blackimg1 = np.loadtxt('blackimg_510.csv',delimiter=',')\n",
    "blackimg2 = np.loadtxt('blackimg2_510.csv',delimiter=',')"
   ]
  },
  {
   "cell_type": "code",
   "execution_count": null,
   "id": "5ce0db49",
   "metadata": {},
   "outputs": [],
   "source": [
    "whiteimg = (whiteimg1+whiteimg2)/2\n",
    "blackimg = (blackimg1+blackimg2)/2"
   ]
  },
  {
   "cell_type": "markdown",
   "id": "67ada6f1",
   "metadata": {},
   "source": [
    "## 1D identity"
   ]
  },
  {
   "cell_type": "code",
   "execution_count": 6,
   "id": "2501b518",
   "metadata": {},
   "outputs": [],
   "source": [
    "# FOR 1-D Identity\n",
    "scene = np.loadtxt('scene_1d.csv', delimiter=',')\n",
    "bs = np.loadtxt('black_subtract_1d.csv', delimiter=',')\n",
    "masks_1d_id = np.loadtxt('mask_1d_59.csv', delimiter=',')"
   ]
  },
  {
   "cell_type": "code",
   "execution_count": 11,
   "id": "93a748ec",
   "metadata": {},
   "outputs": [],
   "source": [
    "bs = bs.reshape(1024,1280,16)\n",
    "scene = scene.reshape(1024,1280,16)\n",
    "y = scene - bs"
   ]
  },
  {
   "cell_type": "code",
   "execution_count": 9,
   "id": "d942fa70",
   "metadata": {},
   "outputs": [],
   "source": [
    "A_1d_id = np.identity(16)\n",
    "Y_1d_id = np.zeros([16,1])\n",
    "for i in range(16):\n",
    "    Y_1d_id[i,0] = np.sum(y[500:545,269:1021,i])"
   ]
  },
  {
   "cell_type": "code",
   "execution_count": 83,
   "id": "4b650443",
   "metadata": {},
   "outputs": [],
   "source": [
    "ab = np.linalg.pinv(A_1d_id, rcond=1e-1)\n",
    "xhat = np.matmul(ab,Y_1d_id)"
   ]
  },
  {
   "cell_type": "code",
   "execution_count": 86,
   "id": "52dac3d1",
   "metadata": {},
   "outputs": [],
   "source": [
    "orig1d = whiteimgo[500:545,269:1021]\n",
    "\n",
    "#downsample original image\n",
    "h = round(np.size(orig1d,0))\n",
    "w = round(np.size(orig1d,1)/16)\n",
    "orig1df = np.copy(xhat)\n",
    "for i in range(16):\n",
    "    orig1df[i] = np.sum(np.sum(orig1d[:,i*w:i*w+w],axis=0),axis=0)\n",
    "#normalize\n",
    "orig1df = orig1df/max(orig1df)\n",
    "xhatf = xhat/max(xhat)\n",
    "# plt.imshow(orig1d[:,15:15+w])\n",
    "# # plt.imshow(orig1df)\n",
    "# print(orig1df)\n",
    "# print(xhatf)"
   ]
  },
  {
   "cell_type": "code",
   "execution_count": 87,
   "id": "c6b3fbab",
   "metadata": {},
   "outputs": [
    {
     "data": {
      "text/plain": [
       "0.046834984540360225"
      ]
     },
     "execution_count": 87,
     "metadata": {},
     "output_type": "execute_result"
    }
   ],
   "source": [
    "mse_1d = mse(orig1df,xhatf)\n",
    "mse_1d"
   ]
  },
  {
   "cell_type": "markdown",
   "id": "bbdd4db4",
   "metadata": {},
   "source": [
    "## 1D random"
   ]
  },
  {
   "cell_type": "code",
   "execution_count": 66,
   "id": "d050662e",
   "metadata": {},
   "outputs": [],
   "source": [
    "# FOR 1-D Identity\n",
    "scene_1d_rand = np.loadtxt('scene_1drand_59.csv', delimiter=',')\n",
    "b_1d_rand = np.loadtxt('black_subtract_1drand_59.csv', delimiter=',')\n",
    "masks_1d_rand = np.loadtxt('mask_1drand_59.csv', delimiter=',')"
   ]
  },
  {
   "cell_type": "code",
   "execution_count": 67,
   "id": "c2241b2d",
   "metadata": {},
   "outputs": [],
   "source": [
    "masks_1d_rand = masks_1d_rand.reshape(16,16,16)\n",
    "A_1d_rand = np.zeros([16,16])\n",
    "for i in range(16):\n",
    "    A_1d_rand[i,:] = masks_1d_rand[8,:,i]"
   ]
  },
  {
   "cell_type": "code",
   "execution_count": 68,
   "id": "b4f02b3c",
   "metadata": {},
   "outputs": [
    {
     "data": {
      "text/plain": [
       "(1024, 1280, 16)"
      ]
     },
     "execution_count": 68,
     "metadata": {},
     "output_type": "execute_result"
    }
   ],
   "source": [
    "b_1d_rand = b_1d_rand.reshape(1024,1280,16)\n",
    "scene_1d_rand = scene_1d_rand.reshape(1024,1280,16)\n",
    "y_1d_rand = scene_1d_rand - b_1d_rand\n",
    "y_1d_rand.shape"
   ]
  },
  {
   "cell_type": "code",
   "execution_count": 69,
   "id": "957f567f",
   "metadata": {},
   "outputs": [],
   "source": [
    "A = masks_1d_rand.reshape(16,16,16)\n",
    "Y_1d_rand = np.zeros([16,1])\n",
    "for i in range(16):\n",
    "    Y_1d_rand[i,0] = np.sum(y_1d_rand[478:522,263:1015,i])"
   ]
  },
  {
   "cell_type": "code",
   "execution_count": 88,
   "id": "00fc1503",
   "metadata": {},
   "outputs": [],
   "source": [
    "ab = np.linalg.pinv(A_1d_rand, rcond=1e-1)\n",
    "xhat = np.matmul(ab,Y_1d_rand)"
   ]
  },
  {
   "cell_type": "code",
   "execution_count": 89,
   "id": "8af1e7f9",
   "metadata": {},
   "outputs": [],
   "source": [
    "orig1d = whiteimgo[478:522,263:1015]\n",
    "\n",
    "#downsample original image\n",
    "h = round(np.size(orig1d,0))\n",
    "w = round(np.size(orig1d,1)/16)\n",
    "orig1df = np.copy(xhat)\n",
    "for i in range(16):\n",
    "    orig1df[i] = np.sum(orig1d[:,i*w:i*w+w])\n",
    "#normalize\n",
    "orig1df = orig1df/max(orig1df)\n",
    "xhatf = xhat/max(xhat)\n",
    "# plt.imshow(orig1d[:,15:15+w])\n",
    "# # plt.imshow(orig1df)\n",
    "# print(orig1df)\n",
    "# print(xhatf)"
   ]
  },
  {
   "cell_type": "code",
   "execution_count": 90,
   "id": "1ef014d7",
   "metadata": {},
   "outputs": [
    {
     "data": {
      "text/plain": [
       "0.043898114465397674"
      ]
     },
     "execution_count": 90,
     "metadata": {},
     "output_type": "execute_result"
    }
   ],
   "source": [
    "mse_1d = mse(orig1df,xhatf)\n",
    "mse_1d"
   ]
  },
  {
   "cell_type": "markdown",
   "id": "c750adcb",
   "metadata": {},
   "source": [
    "## 2D identity"
   ]
  },
  {
   "cell_type": "code",
   "execution_count": 6,
   "id": "e6f7f055",
   "metadata": {},
   "outputs": [],
   "source": [
    "scene_2d_load = np.loadtxt('scene_2d_59.csv',delimiter=',')\n",
    "scene_2d = scene_2d_load.reshape(1024,1280,256)\n",
    "mask_2d_load = np.loadtxt('mask_2d_59.csv',delimiter=',')\n",
    "mask_2d = mask_2d_load.reshape(16,16,256)"
   ]
  },
  {
   "cell_type": "code",
   "execution_count": null,
   "id": "613e058b",
   "metadata": {},
   "outputs": [],
   "source": [
    "img32 = np.loadtxt('M=32_N=256_id.csv',delimiter=',')\n",
    "img64 = np.loadtxt('M=64_N=256_id.csv',delimiter=',')\n",
    "img96 = np.loadtxt('M=96_N=256_id.csv',delimiter=',')\n",
    "img128 = np.loadtxt('M=128_N=256_id.csv',delimiter=',')"
   ]
  },
  {
   "cell_type": "code",
   "execution_count": 9,
   "id": "87b27f1c",
   "metadata": {},
   "outputs": [],
   "source": [
    "a1 = scene_2d.reshape(1024,1280,256)\n",
    "for i in range(256):\n",
    "    a1[:,:,i] = a1[:,:,i] - blackimg2o\n",
    "    a1[:,:,i] = np.where(a1[:,:,i]<0, 0, a1[:,:,i])"
   ]
  },
  {
   "cell_type": "code",
   "execution_count": null,
   "id": "35485543",
   "metadata": {},
   "outputs": [],
   "source": [
    "A_2d_id = np.copy(mask_2d).reshape(256,256)\n",
    "# 16x16 pixels square in scene with left top(100,260) to bottom right()\n",
    "Y_2d_id = np.zeros([256,1])\n",
    "for i in range(256):\n",
    "    Y_2d_id[i,0] = np.sum(a1[100:845,260:1018,i])"
   ]
  },
  {
   "cell_type": "code",
   "execution_count": 10,
   "id": "68f7922f",
   "metadata": {},
   "outputs": [],
   "source": [
    "a2 = Y_2d_id.reshape(16,16)\n",
    "ab = np.linalg.pinv(A_2d_id, rcond=1e-1)\n",
    "xhat = np.matmul(ab,Y_2d_id)\n",
    "xhat = xhat.reshape(16,16)"
   ]
  },
  {
   "cell_type": "code",
   "execution_count": 62,
   "id": "fe411cd3",
   "metadata": {},
   "outputs": [],
   "source": [
    "#2d identity\n",
    "orig1d = whiteimgo[100:845,260:1018]\n",
    "\n",
    "#downsample original image\n",
    "h = round(np.size(orig1d,0)/16)\n",
    "w = round(np.size(orig1d,1)/16)\n",
    "orig1df = np.copy(xhat)\n",
    "for i in range(16):\n",
    "    for j in range(16):\n",
    "        orig1df[i,j] = np.sum(orig1d[i*h:i*h+h,j*w:j*w+w])\n",
    "#normalize\n",
    "orig1df = orig1df/np.max(orig1df)\n",
    "xhatf = xhat/np.max(xhat)\n",
    "mse_2d = mse(orig1df,xhatf)\n",
    "mse_2d"
   ]
  },
  {
   "cell_type": "code",
   "execution_count": 63,
   "id": "83836e3f",
   "metadata": {},
   "outputs": [
    {
     "data": {
      "text/plain": [
       "0.2517169036100833"
      ]
     },
     "execution_count": 63,
     "metadata": {},
     "output_type": "execute_result"
    }
   ],
   "source": [
    "#2d identity 32\n",
    "orig1d = whiteimgo[100:845,260:1018]\n",
    "xhat = np.copy(img32)\n",
    "\n",
    "#downsample original image\n",
    "h = round(np.size(orig1d,0)/16)\n",
    "w = round(np.size(orig1d,1)/16)\n",
    "orig1df = np.copy(xhat)\n",
    "for i in range(16):\n",
    "    for j in range(16):\n",
    "        orig1df[i,j] = np.sum(orig1d[i*h:i*h+h,j*w:j*w+w])\n",
    "#normalize\n",
    "orig1df = orig1df/np.max(orig1df)\n",
    "xhatf = xhat/np.max(xhat)\n",
    "mse_2d = mse(orig1df,xhatf)\n",
    "mse_2d"
   ]
  },
  {
   "cell_type": "code",
   "execution_count": null,
   "id": "607ecbbc",
   "metadata": {},
   "outputs": [],
   "source": [
    "#2d identity 64\n",
    "orig1d = whiteimgo[100:845,260:1018]\n",
    "xhat = np.copy(img64)\n",
    "\n",
    "#downsample original image\n",
    "h = round(np.size(orig1d,0)/16)\n",
    "w = round(np.size(orig1d,1)/16)\n",
    "orig1df = np.copy(xhat)\n",
    "for i in range(16):\n",
    "    for j in range(16):\n",
    "        orig1df[i,j] = np.sum(orig1d[i*h:i*h+h,j*w:j*w+w])\n",
    "#normalize\n",
    "orig1df = orig1df/np.max(orig1df)\n",
    "xhatf = xhat/np.max(xhat)\n",
    "mse_2d = mse(orig1df,xhatf)\n",
    "mse_2d"
   ]
  },
  {
   "cell_type": "code",
   "execution_count": null,
   "id": "d1a4407c",
   "metadata": {},
   "outputs": [],
   "source": [
    "#2d identity 96\n",
    "orig1d = whiteimgo[100:845,260:1018]\n",
    "xhat = np.copy(img96)\n",
    "\n",
    "#downsample original image\n",
    "h = round(np.size(orig1d,0)/16)\n",
    "w = round(np.size(orig1d,1)/16)\n",
    "orig1df = np.copy(xhat)\n",
    "for i in range(16):\n",
    "    for j in range(16):\n",
    "        orig1df[i,j] = np.sum(orig1d[i*h:i*h+h,j*w:j*w+w])\n",
    "#normalize\n",
    "orig1df = orig1df/np.max(orig1df)\n",
    "xhatf = xhat/np.max(xhat)\n",
    "mse_2d = mse(orig1df,xhatf)\n",
    "mse_2d"
   ]
  },
  {
   "cell_type": "code",
   "execution_count": null,
   "id": "55057ea6",
   "metadata": {},
   "outputs": [],
   "source": [
    "#2d identity 128\n",
    "orig1d = whiteimgo[100:845,260:1018]\n",
    "xhat = np.copy(img128)\n",
    "\n",
    "#downsample original image\n",
    "h = round(np.size(orig1d,0)/16)\n",
    "w = round(np.size(orig1d,1)/16)\n",
    "orig1df = np.copy(xhat)\n",
    "for i in range(16):\n",
    "    for j in range(16):\n",
    "        orig1df[i,j] = np.sum(orig1d[i*h:i*h+h,j*w:j*w+w])\n",
    "#normalize\n",
    "orig1df = orig1df/np.max(orig1df)\n",
    "xhatf = xhat/np.max(xhat)\n",
    "mse_2d = mse(orig1df,xhatf)\n",
    "mse_2d"
   ]
  },
  {
   "cell_type": "markdown",
   "id": "c2ce0bcb",
   "metadata": {},
   "source": [
    "## 2D rand"
   ]
  },
  {
   "cell_type": "code",
   "execution_count": 6,
   "id": "9323e3da",
   "metadata": {},
   "outputs": [],
   "source": [
    "scene_2drand_load = np.loadtxt('scene_2drand_510.csv',delimiter=',')\n",
    "scene_2drand = scene_2drand_load.reshape(1024,1280,256)\n",
    "mask_2drand_load = np.loadtxt('mask_2drand_510.csv',delimiter=',')\n",
    "mask_2drand = mask_2drand_load.reshape(16,16,256)"
   ]
  },
  {
   "cell_type": "code",
   "execution_count": null,
   "id": "eddbb80b",
   "metadata": {},
   "outputs": [],
   "source": [
    "img32r = np.loadtxt('M=32_N=256_rdm.csv',delimiter=',')\n",
    "img64r = np.loadtxt('M=64_N=256_rdm.csv',delimiter=',')\n",
    "img96r = np.loadtxt('M=96_N=256_rdm.csv',delimiter=',')\n",
    "img128r = np.loadtxt('M=128_N=256_rdm.csv',delimiter=',')"
   ]
  },
  {
   "cell_type": "code",
   "execution_count": 9,
   "id": "161468c1",
   "metadata": {},
   "outputs": [],
   "source": [
    "a1 = scene_2d.reshape(1024,1280,256)\n",
    "for i in range(256):\n",
    "    a1[:,:,i] = a1[:,:,i] - blackimg2o\n",
    "    a1[:,:,i] = np.where(a1[:,:,i]<0, 0, a1[:,:,i])"
   ]
  },
  {
   "cell_type": "code",
   "execution_count": null,
   "id": "33fe4fb8",
   "metadata": {},
   "outputs": [],
   "source": [
    "Y_mat = scene_2drand_crop[20:775,45:810,:]\n",
    "Y_sub = np.copy(Y_mat)\n",
    "for i in range(256):\n",
    "    Y_sub[:,:,i] = Y_mat[:,:,i] - blackimg[120:875,245:1010]\n",
    "Y = np.sum(np.sum(Y_sub,axis=0),axis=0)"
   ]
  },
  {
   "cell_type": "code",
   "execution_count": 10,
   "id": "3506a742",
   "metadata": {},
   "outputs": [],
   "source": [
    "A = np.copy(mask_2drand).reshape(256,256)\n",
    "a2 = Y.reshape(16,16)\n",
    "ab = np.linalg.pinv(A, rcond=1e-1)\n",
    "xhat = np.matmul(ab,Y)\n",
    "xhat = xhat.reshape(16,16)"
   ]
  },
  {
   "cell_type": "code",
   "execution_count": 62,
   "id": "7e65f87d",
   "metadata": {},
   "outputs": [],
   "source": [
    "#2d rand\n",
    "orig2d = whiteimg[120:875,245:1010]\n",
    "\n",
    "#downsample original image\n",
    "h = round(np.size(orig1d,0)/16)\n",
    "w = round(np.size(orig1d,1)/16)\n",
    "orig2df = np.copy(xhat)\n",
    "for i in range(16):\n",
    "    for j in range(16):\n",
    "        orig2df[i,j] = np.sum(orig1d[i*h:i*h+h,j*w:j*w+w])\n",
    "#normalize\n",
    "orig2df = orig2df/np.max(orig2df)\n",
    "xhatf = xhat/np.max(xhat)\n",
    "mse_2d = mse(orig2df,xhatf)\n",
    "mse_2d"
   ]
  },
  {
   "cell_type": "code",
   "execution_count": 63,
   "id": "cdaa3bc6",
   "metadata": {},
   "outputs": [
    {
     "data": {
      "text/plain": [
       "0.2517169036100833"
      ]
     },
     "execution_count": 63,
     "metadata": {},
     "output_type": "execute_result"
    }
   ],
   "source": [
    "#2d rand 32\n",
    "orig1d = whiteimg[120:875,245:1010]\n",
    "xhat = np.copy(img32r)\n",
    "\n",
    "#downsample original image\n",
    "h = round(np.size(orig1d,0)/16)\n",
    "w = round(np.size(orig1d,1)/16)\n",
    "orig1df = np.copy(xhat)\n",
    "for i in range(16):\n",
    "    for j in range(16):\n",
    "        orig1df[i,j] = np.sum(orig1d[i*h:i*h+h,j*w:j*w+w])\n",
    "#normalize\n",
    "orig1df = orig1df/np.max(orig1df)\n",
    "xhatf = xhat/np.max(xhat)\n",
    "mse_2d = mse(orig1df,xhatf)\n",
    "mse_2d"
   ]
  },
  {
   "cell_type": "code",
   "execution_count": null,
   "id": "e1d46a7e",
   "metadata": {},
   "outputs": [],
   "source": [
    "#2d rand 64\n",
    "orig1d = whiteimg[120:875,245:1010]\n",
    "xhat = np.copy(img64r)\n",
    "\n",
    "#downsample original image\n",
    "h = round(np.size(orig1d,0)/16)\n",
    "w = round(np.size(orig1d,1)/16)\n",
    "orig1df = np.copy(xhat)\n",
    "for i in range(16):\n",
    "    for j in range(16):\n",
    "        orig1df[i,j] = np.sum(orig1d[i*h:i*h+h,j*w:j*w+w])\n",
    "#normalize\n",
    "orig1df = orig1df/np.max(orig1df)\n",
    "xhatf = xhat/np.max(xhat)\n",
    "mse_2d = mse(orig1df,xhatf)\n",
    "mse_2d"
   ]
  },
  {
   "cell_type": "code",
   "execution_count": null,
   "id": "93e503cd",
   "metadata": {},
   "outputs": [],
   "source": [
    "#2d rand 96\n",
    "orig1d = whiteimg[120:875,245:1010]\n",
    "xhat = np.copy(img96r)\n",
    "\n",
    "#downsample original image\n",
    "h = round(np.size(orig1d,0)/16)\n",
    "w = round(np.size(orig1d,1)/16)\n",
    "orig1df = np.copy(xhat)\n",
    "for i in range(16):\n",
    "    for j in range(16):\n",
    "        orig1df[i,j] = np.sum(orig1d[i*h:i*h+h,j*w:j*w+w])\n",
    "#normalize\n",
    "orig1df = orig1df/np.max(orig1df)\n",
    "xhatf = xhat/np.max(xhat)\n",
    "mse_2d = mse(orig1df,xhatf)\n",
    "mse_2d"
   ]
  },
  {
   "cell_type": "code",
   "execution_count": null,
   "id": "d02b067c",
   "metadata": {},
   "outputs": [],
   "source": [
    "#2d rand 128\n",
    "orig1d = whiteimg[120:875,245:1010]\n",
    "xhat = np.copy(img128r)\n",
    "\n",
    "#downsample original image\n",
    "h = round(np.size(orig1d,0)/16)\n",
    "w = round(np.size(orig1d,1)/16)\n",
    "orig1df = np.copy(xhat)\n",
    "for i in range(16):\n",
    "    for j in range(16):\n",
    "        orig1df[i,j] = np.sum(orig1d[i*h:i*h+h,j*w:j*w+w])\n",
    "#normalize\n",
    "orig1df = orig1df/np.max(orig1df)\n",
    "xhatf = xhat/np.max(xhat)\n",
    "mse_2d = mse(orig1df,xhatf)\n",
    "mse_2d"
   ]
  },
  {
   "cell_type": "markdown",
   "id": "6801e562",
   "metadata": {},
   "source": [
    "## graph"
   ]
  },
  {
   "cell_type": "code",
   "execution_count": 91,
   "id": "363bb879",
   "metadata": {},
   "outputs": [],
   "source": [
    "mse2d_id = [0.699449902682291,0.66054894463298,0.6295054962098299,0.6309703116465246,0.2470439167038696]\n",
    "ind2d = [32,64,96,128,256]\n",
    "mse2d_rdm = [0.7309560650287275,0.7324067639763747,0.7474360311723898,0.7544450168141996,0.27096278517905725]"
   ]
  },
  {
   "cell_type": "code",
   "execution_count": 93,
   "id": "d28b03f3",
   "metadata": {},
   "outputs": [
    {
     "data": {
      "text/plain": [
       "Text(0.5, 1.0, 'MSE vs. Reconstruction Measurements, 2D Identity')"
      ]
     },
     "execution_count": 93,
     "metadata": {},
     "output_type": "execute_result"
    },
    {
     "data": {
      "image/png": "[encoded data removed]",
      "text/plain": [
       "<Figure size 432x288 with 1 Axes>"
      ]
     },
     "metadata": {
      "needs_background": "light"
     },
     "output_type": "display_data"
    }
   ],
   "source": [
    "plt.plot(ind2d,mse2d_id)\n",
    "plt.xlabel('Measurements (M)')\n",
    "plt.ylabel('Mean Square Error (MSE)')\n",
    "plt.title('MSE vs. Reconstruction Measurements, 2D Identity')"
   ]
  },
  {
   "cell_type": "code",
   "execution_count": 94,
   "id": "3c5ea2d9",
   "metadata": {},
   "outputs": [
    {
     "data": {
      "text/plain": [
       "Text(0.5, 1.0, 'MSE vs. Reconstruction Measurements, 2D Random Speckle')"
      ]
     },
     "execution_count": 94,
     "metadata": {},
     "output_type": "execute_result"
    },
    {
     "data": {
      "image/png": "[encoded data removed]",
      "text/plain": [
       "<Figure size 432x288 with 1 Axes>"
      ]
     },
     "metadata": {
      "needs_background": "light"
     },
     "output_type": "display_data"
    }
   ],
   "source": [
    "plt.plot(ind2d,mse2d_rdm)\n",
    "plt.xlabel('Measurements (M)')\n",
    "plt.ylabel('Mean Square Error (MSE)')\n",
    "plt.title('MSE vs. Reconstruction Measurements, 2D Random Speckle')"
   ]
  }
 ],
 "metadata": {
  "kernelspec": {
   "display_name": "Python 3",
   "language": "python",
   "name": "python3"
  },
  "language_info": {
   "codemirror_mode": {
    "name": "ipython",
    "version": 3
   },
   "file_extension": ".py",
   "mimetype": "text/x-python",
   "name": "python",
   "nbconvert_exporter": "python",
   "pygments_lexer": "ipython3",
   "version": "3.8.8"
  }
 },
 "nbformat": 4,
 "nbformat_minor": 5
}
