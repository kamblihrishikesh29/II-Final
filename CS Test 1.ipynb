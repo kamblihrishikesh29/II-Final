{
 "cells": [
  {
   "cell_type": "code",
   "execution_count": 1,
   "id": "50c8a268",
   "metadata": {},
   "outputs": [],
   "source": [
    "# Import modules\n",
    "import os\n",
    "import sys\n",
    "sys.path.append(r'..\\Hardware_src') # Make the change according to your path\n",
    "\n",
    "# Python modules for figure visualization\n",
    "import numpy as np\n",
    "import matplotlib.pyplot as plt\n",
    "import scipy\n",
    "from scipy import io\n",
    "from scipy import signal\n",
    "import math\n",
    "import cv2\n",
    "import screeninfo\n",
    "from scipy.linalg import hadamard    \n",
    "from scipy.optimize import minimize\n",
    "from pathlib import Path"
   ]
  },
  {
   "cell_type": "markdown",
   "id": "48517adb",
   "metadata": {},
   "source": [
    "## M = N"
   ]
  },
  {
   "cell_type": "markdown",
   "id": "c74d5ed6",
   "metadata": {},
   "source": [
    "### 1D Identity Reconstruction"
   ]
  },
  {
   "cell_type": "code",
   "execution_count": 3,
   "id": "3fe81209",
   "metadata": {},
   "outputs": [],
   "source": [
    "# Load data\n",
    "file_path = Path(os.getcwd())\n",
    "data_path = file_path.joinpath('C:/Users/russe/OneDrive - Johns Hopkins/imaging instrumentation/FinalProj')\n",
    "\n",
    "black_subtract_1d = np.loadtxt(data_path.joinpath('black_subtract_1d_59.csv'), delimiter=',')\n",
    "black_subtract_1d = black_subtract_1d.reshape(1024,1280,16)\n",
    "mask1d = np.loadtxt(data_path.joinpath('mask_1d_59.csv'), delimiter=',')\n",
    "mask1d = mask1d.reshape(16,16,16)\n",
    "scene_1d = np.loadtxt(data_path.joinpath('scene_1d_59.csv'), delimiter=',')\n",
    "scene_1d = scene_1d.reshape(1024,1280,16)"
   ]
  },
  {
   "cell_type": "code",
   "execution_count": 4,
   "id": "eb8f0467",
   "metadata": {},
   "outputs": [
    {
     "data": {
      "image/png": "[encoded data removed]",
      "text/plain": [
       "<Figure size 432x288 with 2 Axes>"
      ]
     },
     "metadata": {
      "needs_background": "light"
     },
     "output_type": "display_data"
    }
   ],
   "source": [
    "# Create Y and A matrix\n",
    "# Subtract ambient lighting\n",
    "# row in scence image, 500 - 545,\n",
    "# column in scene image, 269 - 1021, 47 for each pattern\n",
    "black_corrected = np.zeros([1024,1280])\n",
    "Y = np.zeros([16,1])\n",
    "A_1d_id = np.identity(16)\n",
    "Y_1d_id = np.zeros([16,1])\n",
    "\n",
    "for i in range(16):\n",
    "    # subtract ambient lighting\n",
    "    black_corrected[:,:] = scene_1d[:,:,i] - black_subtract_1d[:,:,i]\n",
    "    Y_1d_id[i,0] = np.sum(black_corrected[500:545,269:1021])\n",
    "\n",
    "A_inv_1d_id = np.linalg.pinv(A_1d_id, rcond=1e-1)\n",
    "X_1d_id = np.matmul(A_inv_1d_id, Y_1d_id)\n",
    "plt.imshow(np.transpose(X_1d_id), cmap='gray')\n",
    "plt.colorbar()\n",
    "plt.show()\n"
   ]
  },
  {
   "cell_type": "markdown",
   "id": "3859913f",
   "metadata": {},
   "source": [
    "### 1D Random Reconstruction"
   ]
  },
  {
   "cell_type": "code",
   "execution_count": 5,
   "id": "281c8c93",
   "metadata": {},
   "outputs": [],
   "source": [
    "# Load data\n",
    "black_subtract_1drand = np.loadtxt(data_path.joinpath('black_subtract_1drand_59.csv'), delimiter=',')\n",
    "black_subtract_1drand = black_subtract_1drand.reshape(1024,1280,16)\n",
    "mask1drand = np.loadtxt(data_path.joinpath('mask_1drand_59.csv'), delimiter=',')\n",
    "mask1drand = mask1drand.reshape(16,16,16)\n",
    "scene_1drand = np.loadtxt(data_path.joinpath('scene_1drand_59.csv'), delimiter=',')\n",
    "scene_1drand = scene_1drand.reshape(1024,1280,16)"
   ]
  },
  {
   "cell_type": "code",
   "execution_count": 6,
   "id": "39f9def9",
   "metadata": {},
   "outputs": [
    {
     "data": {
      "image/png": "[encoded data removed]",
      "text/plain": [
       "<Figure size 432x288 with 2 Axes>"
      ]
     },
     "metadata": {
      "needs_background": "light"
     },
     "output_type": "display_data"
    }
   ],
   "source": [
    "# Create Y and A matrix\n",
    "# Subtract ambient lighting\n",
    "# row in scence image, 500 - 545,\n",
    "# column in scene image, 269 - 1021, 47 for each pattern\n",
    "black_corrected = np.zeros([1024,1280])\n",
    "Y = np.zeros([16,1])\n",
    "A_1d_rand = np.zeros([16,16])\n",
    "Y_1d_rand = np.zeros([16,1])\n",
    "\n",
    "for i in range(16):\n",
    "    # subtract ambient lighting\n",
    "    black_corrected[:,:] = scene_1drand[:,:,i] - black_subtract_1drand[:,:,i]\n",
    "    Y_1d_rand[i,0] = np.sum(black_corrected[500:545,269:1021])\n",
    "    A_1d_rand[i,:] = mask1drand[8,:,i]\n",
    "\n",
    "A_inv_1d_rand = np.linalg.pinv(A_1d_rand, rcond=1e-1)\n",
    "X_1d_rand = np.matmul(A_inv_1d_rand, Y_1d_rand)\n",
    "plt.imshow(np.transpose(X_1d_rand), cmap='gray')\n",
    "plt.colorbar()\n",
    "plt.show()\n"
   ]
  },
  {
   "cell_type": "markdown",
   "id": "c2244fbc",
   "metadata": {},
   "source": [
    "### 2D Identity Reconstruction"
   ]
  },
  {
   "cell_type": "code",
   "execution_count": 11,
   "id": "777fd578",
   "metadata": {},
   "outputs": [],
   "source": [
    "# Load data\n",
    "data_path = file_path.joinpath('C:/Users/russe/OneDrive - Johns Hopkins/FinalProj')\n",
    "\n",
    "black_subtract_2d = np.loadtxt(data_path.joinpath('blackimg2_59.csv'), delimiter=',')\n",
    "black_subtract_2d = black_subtract_2d.reshape(1024,1280)\n",
    "mask2d = np.loadtxt(data_path.joinpath('mask_2d_59.csv'), delimiter=',')\n",
    "mask2d = mask2d.reshape(16,16,256)\n",
    "scene_2d = np.loadtxt(data_path.joinpath('scene_2d_59.csv'), delimiter=',')\n",
    "scene_2d = scene_2d.reshape(1024,1280,256)"
   ]
  },
  {
   "cell_type": "code",
   "execution_count": null,
   "id": "13d9d228",
   "metadata": {},
   "outputs": [],
   "source": [
    "plt.imshow()"
   ]
  },
  {
   "cell_type": "code",
   "execution_count": null,
   "id": "1efe04b7",
   "metadata": {},
   "outputs": [],
   "source": [
    "# Create Y and A matrix\n",
    "# Subtract ambient lighting\n",
    "# row in scence image, 500 - 545,\n",
    "# column in scene image, 269 - 1021, 47 for each pattern\n",
    "black_corrected = np.zeros([1024,1280])\n",
    "Y = np.zeros([16,1])\n",
    "A_1d_rand = np.zeros([16,16])\n",
    "Y_1d_rand = np.zeros([16,1])\n",
    "\n",
    "for i in range(16):\n",
    "    # subtract ambient lighting\n",
    "    black_corrected[:,:] = scene_2d[:,:,i] - black_subtract_2d[:,:]\n",
    "    Y_1d_rand[i,0] = np.sum(black_corrected[500:545,269:1021])"
   ]
  },
  {
   "cell_type": "markdown",
   "id": "02255bf5",
   "metadata": {},
   "source": [
    "### 2D Random Reconstruction"
   ]
  },
  {
   "cell_type": "code",
   "execution_count": 7,
   "id": "75e19ead",
   "metadata": {},
   "outputs": [
    {
     "name": "stderr",
     "output_type": "stream",
     "text": [
      "C:\\Users\\russe\\AppData\\Local\\Temp/ipykernel_29360/4252725886.py:8: UserWarning: loadtxt: Empty input file: \"C:\\Users\\russe\\OneDrive - Johns Hopkins\\FinalProj\\scene_2drand_crop.csv\"\n",
      "  scene_2drand = np.loadtxt(data_path.joinpath('scene_2drand_crop.csv'), delimiter=',')\n"
     ]
    },
    {
     "ename": "ValueError",
     "evalue": "cannot reshape array of size 0 into shape (1024,1280,256)",
     "output_type": "error",
     "traceback": [
      "\u001b[1;31m---------------------------------------------------------------------------\u001b[0m",
      "\u001b[1;31mValueError\u001b[0m                                Traceback (most recent call last)",
      "\u001b[1;32m~\\AppData\\Local\\Temp/ipykernel_29360/4252725886.py\u001b[0m in \u001b[0;36m<module>\u001b[1;34m\u001b[0m\n\u001b[0;32m      7\u001b[0m \u001b[0mmask_2drand_510\u001b[0m \u001b[1;33m=\u001b[0m \u001b[0mmask_2drand_510\u001b[0m\u001b[1;33m.\u001b[0m\u001b[0mreshape\u001b[0m\u001b[1;33m(\u001b[0m\u001b[1;36m16\u001b[0m\u001b[1;33m,\u001b[0m\u001b[1;36m16\u001b[0m\u001b[1;33m,\u001b[0m\u001b[1;36m256\u001b[0m\u001b[1;33m)\u001b[0m\u001b[1;33m\u001b[0m\u001b[1;33m\u001b[0m\u001b[0m\n\u001b[0;32m      8\u001b[0m \u001b[0mscene_2drand\u001b[0m \u001b[1;33m=\u001b[0m \u001b[0mnp\u001b[0m\u001b[1;33m.\u001b[0m\u001b[0mloadtxt\u001b[0m\u001b[1;33m(\u001b[0m\u001b[0mdata_path\u001b[0m\u001b[1;33m.\u001b[0m\u001b[0mjoinpath\u001b[0m\u001b[1;33m(\u001b[0m\u001b[1;34m'scene_2drand_crop.csv'\u001b[0m\u001b[1;33m)\u001b[0m\u001b[1;33m,\u001b[0m \u001b[0mdelimiter\u001b[0m\u001b[1;33m=\u001b[0m\u001b[1;34m','\u001b[0m\u001b[1;33m)\u001b[0m\u001b[1;33m\u001b[0m\u001b[1;33m\u001b[0m\u001b[0m\n\u001b[1;32m----> 9\u001b[1;33m \u001b[0mscene_2drand\u001b[0m \u001b[1;33m=\u001b[0m \u001b[0mscene_2drand\u001b[0m\u001b[1;33m.\u001b[0m\u001b[0mreshape\u001b[0m\u001b[1;33m(\u001b[0m\u001b[1;36m1024\u001b[0m\u001b[1;33m,\u001b[0m\u001b[1;36m1280\u001b[0m\u001b[1;33m,\u001b[0m\u001b[1;36m256\u001b[0m\u001b[1;33m)\u001b[0m\u001b[1;33m\u001b[0m\u001b[1;33m\u001b[0m\u001b[0m\n\u001b[0m",
      "\u001b[1;31mValueError\u001b[0m: cannot reshape array of size 0 into shape (1024,1280,256)"
     ]
    }
   ],
   "source": [
    "# Load data\n",
    "data_path = file_path.joinpath('C:/Users/russe/OneDrive - Johns Hopkins/FinalProj')\n",
    "\n",
    "black_subtract_2d = np.loadtxt(data_path.joinpath('blackimg2_59.csv'), delimiter=',')\n",
    "black_subtract_2d = black_subtract_2d.reshape(1024,1280)\n",
    "mask_2drand_510 = np.loadtxt(data_path.joinpath('mask_2drand_510.csv'), delimiter=',')\n",
    "mask_2drand_510 = mask_2drand_510.reshape(16,16,256)\n",
    "scene_2drand = np.loadtxt(data_path.joinpath('scene_2drand_crop.csv'), delimiter=',')\n",
    "scene_2drand = scene_2drand.reshape(1024,1280,256)"
   ]
  },
  {
   "cell_type": "markdown",
   "id": "481442f3",
   "metadata": {},
   "source": [
    "## M << N"
   ]
  },
  {
   "cell_type": "code",
   "execution_count": null,
   "id": "7bc240ca",
   "metadata": {},
   "outputs": [],
   "source": [
    "# Compressed Sensing Alg 1\n",
    "# Solve y = A*x for x using L1 minimum norm solution\n",
    "def L1_norm(x):\n",
    "    return np.linal.norm(x, ord=1)\n",
    "\n",
    "constr = ({'type': 'eq', 'fun': lambda x: A @ x - y})\n",
    "x0 = np.linalg.pinv(A) @ y # initialize minimization with L2 solution\n",
    "res = minimize(L1_norm, x0, method='SLSQP', constraints=constr)\n",
    "x_L1 = res.x\n",
    "\n",
    "plt.imshow(x_L1)\n",
    "plt.colorbar()\n",
    "plt.show()"
   ]
  }
 ],
 "metadata": {
  "interpreter": {
   "hash": "1c3532f7f66afc7bbca14b0ba7480be72c58d62eb8124ebf6ff724bceb86a354"
  },
  "kernelspec": {
   "display_name": "Python 3.9.12 64-bit (windows store)",
   "language": "python",
   "name": "python3"
  },
  "language_info": {
   "codemirror_mode": {
    "name": "ipython",
    "version": 3
   },
   "file_extension": ".py",
   "mimetype": "text/x-python",
   "name": "python",
   "nbconvert_exporter": "python",
   "pygments_lexer": "ipython3",
   "version": "3.9.12"
  }
 },
 "nbformat": 4,
 "nbformat_minor": 5
}
