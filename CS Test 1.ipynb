{
 "cells": [
  {
   "cell_type": "code",
   "execution_count": 152,
   "id": "50c8a268",
   "metadata": {},
   "outputs": [],
   "source": [
    "# Import modules\n",
    "import os\n",
    "import sys\n",
    "sys.path.append(r'..\\Hardware_src') # Make the change according to your path\n",
    "\n",
    "# Python modules for figure visualization\n",
    "import numpy as np\n",
    "import matplotlib.pyplot as plt\n",
    "import scipy\n",
    "from scipy import io\n",
    "from scipy import signal\n",
    "import math\n",
    "import cv2\n",
    "import screeninfo\n",
    "from scipy.linalg import hadamard    \n",
    "from scipy.optimize import minimize\n",
    "from pathlib import Path\n",
    "import random\n",
    "from scipy import fft"
   ]
  },
  {
   "cell_type": "markdown",
   "id": "48517adb",
   "metadata": {},
   "source": [
    "## M = N"
   ]
  },
  {
   "cell_type": "markdown",
   "id": "c74d5ed6",
   "metadata": {},
   "source": [
    "### 1D Identity Reconstruction"
   ]
  },
  {
   "cell_type": "code",
   "execution_count": 2,
   "id": "3fe81209",
   "metadata": {},
   "outputs": [],
   "source": [
    "# Load data\n",
    "file_path = Path(os.getcwd())\n",
    "data_path = file_path.joinpath('C:/Users/russe/OneDrive - Johns Hopkins/imaging instrumentation/FinalProj')\n",
    "\n",
    "black_subtract_1d = np.loadtxt(data_path.joinpath('black_subtract_1d_59.csv'), delimiter=',')\n",
    "black_subtract_1d = black_subtract_1d.reshape(1024,1280,16)\n",
    "mask1d = np.loadtxt(data_path.joinpath('mask_1d_59.csv'), delimiter=',')\n",
    "mask1d = mask1d.reshape(16,16,16)\n",
    "scene_1d = np.loadtxt(data_path.joinpath('scene_1d_59.csv'), delimiter=',')\n",
    "scene_1d = scene_1d.reshape(1024,1280,16)"
   ]
  },
  {
   "cell_type": "code",
   "execution_count": 3,
   "id": "eb8f0467",
   "metadata": {},
   "outputs": [
    {
     "data": {
      "image/png": "[encoded data removed]",
      "text/plain": [
       "<Figure size 432x288 with 2 Axes>"
      ]
     },
     "metadata": {
      "needs_background": "light"
     },
     "output_type": "display_data"
    }
   ],
   "source": [
    "# Create Y and A matrix\n",
    "# Subtract ambient lighting\n",
    "# row in scence image, 500 - 545,\n",
    "# column in scene image, 269 - 1021, 47 for each pattern\n",
    "black_corrected = np.zeros([1024,1280])\n",
    "Y = np.zeros([16,1])\n",
    "A_1d_id = np.identity(16)\n",
    "Y_1d_id = np.zeros([16,1])\n",
    "\n",
    "for i in range(16):\n",
    "    # subtract ambient lighting\n",
    "    black_corrected[:,:] = scene_1d[:,:,i] - black_subtract_1d[:,:,i]\n",
    "    Y_1d_id[i,0] = np.sum(black_corrected[500:545,269:1021])\n",
    "\n",
    "A_inv_1d_id = np.linalg.pinv(A_1d_id, rcond=1e-1)\n",
    "X_1d_id = np.matmul(A_inv_1d_id, Y_1d_id)\n",
    "plt.imshow(np.transpose(X_1d_id), cmap='gray')\n",
    "plt.colorbar()\n",
    "plt.show()\n"
   ]
  },
  {
   "cell_type": "markdown",
   "id": "3859913f",
   "metadata": {},
   "source": [
    "### 1D Random Reconstruction"
   ]
  },
  {
   "cell_type": "code",
   "execution_count": 4,
   "id": "281c8c93",
   "metadata": {},
   "outputs": [],
   "source": [
    "# Load data\n",
    "black_subtract_1drand = np.loadtxt(data_path.joinpath('black_subtract_1drand_59.csv'), delimiter=',')\n",
    "black_subtract_1drand = black_subtract_1drand.reshape(1024,1280,16)\n",
    "mask1drand = np.loadtxt(data_path.joinpath('mask_1drand_59.csv'), delimiter=',')\n",
    "mask1drand = mask1drand.reshape(16,16,16)\n",
    "scene_1drand = np.loadtxt(data_path.joinpath('scene_1drand_59.csv'), delimiter=',')\n",
    "scene_1drand = scene_1drand.reshape(1024,1280,16)"
   ]
  },
  {
   "cell_type": "code",
   "execution_count": 5,
   "id": "39f9def9",
   "metadata": {},
   "outputs": [
    {
     "data": {
      "image/png": "[encoded data removed]",
      "text/plain": [
       "<Figure size 432x288 with 2 Axes>"
      ]
     },
     "metadata": {
      "needs_background": "light"
     },
     "output_type": "display_data"
    }
   ],
   "source": [
    "# Create Y and A matrix\n",
    "# Subtract ambient lighting\n",
    "# row in scence image, 500 - 545,\n",
    "# column in scene image, 269 - 1021, 47 for each pattern\n",
    "black_corrected = np.zeros([1024,1280])\n",
    "Y = np.zeros([16,1])\n",
    "A_1d_rand = np.zeros([16,16])\n",
    "Y_1d_rand = np.zeros([16,1])\n",
    "\n",
    "for i in range(16):\n",
    "    # subtract ambient lighting\n",
    "    black_corrected[:,:] = scene_1drand[:,:,i] - black_subtract_1drand[:,:,i]\n",
    "    Y_1d_rand[i,0] = np.sum(black_corrected[500:545,269:1021])\n",
    "    A_1d_rand[i,:] = mask1drand[8,:,i]\n",
    "\n",
    "A_inv_1d_rand = np.linalg.pinv(A_1d_rand, rcond=1e-1)\n",
    "X_1d_rand = np.matmul(A_inv_1d_rand, Y_1d_rand)\n",
    "plt.imshow(np.transpose(X_1d_rand), cmap='gray')\n",
    "plt.colorbar()\n",
    "plt.show()\n"
   ]
  },
  {
   "cell_type": "markdown",
   "id": "c2244fbc",
   "metadata": {},
   "source": [
    "### 2D Identity Reconstruction"
   ]
  },
  {
   "cell_type": "code",
   "execution_count": 11,
   "id": "777fd578",
   "metadata": {},
   "outputs": [],
   "source": [
    "# Load data\n",
    "data_path = file_path.joinpath('C:/Users/russe/OneDrive - Johns Hopkins/FinalProj')\n",
    "\n",
    "black_subtract_2d = np.loadtxt(data_path.joinpath('blackimg2_59.csv'), delimiter=',')\n",
    "black_subtract_2d = black_subtract_2d.reshape(1024,1280)\n",
    "mask2d = np.loadtxt(data_path.joinpath('mask_2d_59.csv'), delimiter=',')\n",
    "mask2d = mask2d.reshape(16,16,256)\n",
    "scene_2d = np.loadtxt(data_path.joinpath('scene_2d_59.csv'), delimiter=',')\n",
    "scene_2d = scene_2d.reshape(1024,1280,256)"
   ]
  },
  {
   "cell_type": "code",
   "execution_count": 11,
   "id": "13d9d228",
   "metadata": {},
   "outputs": [],
   "source": [
    "# Load Data\n",
    "data_path = file_path.joinpath('C:/Users/russe/OneDrive - Johns Hopkins/FinalProj')\n",
    "Y_2d_id = np.loadtxt(data_path.joinpath('Y_2d_id.csv'), delimiter=',')\n",
    "A_2d_id = np.loadtxt(data_path.joinpath('A_2d_id.csv'), delimiter=',')\n"
   ]
  },
  {
   "cell_type": "code",
   "execution_count": 14,
   "id": "1efe04b7",
   "metadata": {},
   "outputs": [
    {
     "data": {
      "image/png": "[encoded data removed]",
      "text/plain": [
       "<Figure size 432x288 with 2 Axes>"
      ]
     },
     "metadata": {
      "needs_background": "light"
     },
     "output_type": "display_data"
    }
   ],
   "source": [
    "A_inv_2d_id = np.linalg.pinv(A_2d_id, rcond=1e-1)\n",
    "X_2d_id = np.matmul(A_inv_2d_id, Y_2d_id)\n",
    "X_2d_id = X_2d_id.reshape(16,16)\n",
    "\n",
    "plt.imshow(X_2d_id, cmap='gray')\n",
    "plt.colorbar()\n",
    "plt.show()\n"
   ]
  },
  {
   "cell_type": "markdown",
   "id": "02255bf5",
   "metadata": {},
   "source": [
    "### 2D Random Reconstruction"
   ]
  },
  {
   "cell_type": "code",
   "execution_count": 22,
   "id": "75e19ead",
   "metadata": {},
   "outputs": [],
   "source": [
    "# Load data\n",
    "data_path = file_path.joinpath('C:/Users/russe/OneDrive - Johns Hopkins/FinalProj')\n",
    "scene_2drand_crop = np.loadtxt(data_path.joinpath('scene_2drand_crop.csv'), delimiter=',')\n",
    "scene_2drand_crop = scene_2drand_crop.reshape(800,850,256)\n",
    "A_2drand = np.loadtxt(data_path.joinpath('A_2d_rand.csv'), delimiter=',')\n",
    "black_subtract_2drand = np.loadtxt(data_path.joinpath('blackimg_510.csv'), delimiter=',')\n"
   ]
  },
  {
   "cell_type": "code",
   "execution_count": 98,
   "id": "6334e2b3",
   "metadata": {},
   "outputs": [
    {
     "data": {
      "image/png": "[encoded data removed]",
      "text/plain": [
       "<Figure size 432x288 with 2 Axes>"
      ]
     },
     "metadata": {
      "needs_background": "light"
     },
     "output_type": "display_data"
    }
   ],
   "source": [
    "Y_2drand = np.zeros([256,1])\n",
    "for i in range(256):\n",
    "    Y_2drand[i,0] = np.sum(scene_2drand_crop[:,:,i] - black_subtract_2drand[100:900,200:1050])\n",
    "\n",
    "A_inv_2drand = np.linalg.pinv(A_2drand, rcond=1e-1)\n",
    "X_2drand = np.matmul(A_inv_2drand, Y_2drand)\n",
    "X_2drand = X_2drand.reshape(16,16)\n",
    "\n",
    "plt.imshow(X_2drand, cmap='gray')\n",
    "plt.colorbar()\n",
    "plt.show()\n"
   ]
  },
  {
   "cell_type": "markdown",
   "id": "481442f3",
   "metadata": {},
   "source": [
    "## M << N"
   ]
  },
  {
   "cell_type": "markdown",
   "id": "f9913b76",
   "metadata": {},
   "source": [
    "### 2D Identity Reconstruction"
   ]
  },
  {
   "cell_type": "code",
   "execution_count": 150,
   "id": "e22d2bdc",
   "metadata": {},
   "outputs": [
    {
     "data": {
      "image/png": "[encoded data removed]",
      "text/plain": [
       "<Figure size 432x288 with 2 Axes>"
      ]
     },
     "metadata": {
      "needs_background": "light"
     },
     "output_type": "display_data"
    }
   ],
   "source": [
    "# Generate sparse matrices\n",
    "M = 64 # 25% of original data\n",
    "N = 256\n",
    "sparse_ind = random.sample(range(N),M)\n",
    "\n",
    "sparse_Y_id = Y_2d_id[sparse_ind]\n",
    "sparse_A_id = A_2d_id[sparse_ind]\n",
    "\n",
    "# Calculate Theta\n",
    "Phi  = sparse_A_id\n",
    "Theta = np.zeros([M,N])\n",
    "mat = np.identity(N)\n",
    "for i in range(256):\n",
    "    psi = scipy.fft.idctn(mat[i,:], type=2)\n",
    "    psi = np.transpose(psi.reshape(N))\n",
    "    Theta[:,i] = Phi@psi\n",
    "\n",
    "# Compressed Sensing Alg 1\n",
    "# Solve y = A*x for x using L1 minimum norm solution\n",
    "def L1_norm(x):\n",
    "    return np.linalg.norm(x, ord=1)\n",
    "\n",
    "# Set constraints for optimization\n",
    "constr = ({'type': 'eq', 'fun': lambda x: Theta @ x - sparse_Y_id})\n",
    "\n",
    "# Initialize minimization with L2 solution\n",
    "x0 = np.linalg.pinv(Theta) @ sparse_Y_id\n",
    "res = minimize(L1_norm, x0, method='SLSQP', constraints=constr)\n",
    "x_L1 = res.x\n",
    "x_L1 = x_L1.reshape(16,16)\n",
    "x0 = x0.reshape(16,16)\n",
    "\n",
    "plt.imshow(x_L1, cmap='gray')\n",
    "plt.colorbar()\n",
    "plt.show()\n"
   ]
  },
  {
   "cell_type": "markdown",
   "id": "f207da0d",
   "metadata": {},
   "source": [
    "### 2D Random Speckle Reconstruction"
   ]
  },
  {
   "cell_type": "code",
   "execution_count": 151,
   "id": "37ca27ef",
   "metadata": {},
   "outputs": [
    {
     "ename": "ValueError",
     "evalue": "all the input arrays must have same number of dimensions, but the array at index 0 has 2 dimension(s) and the array at index 1 has 1 dimension(s)",
     "output_type": "error",
     "traceback": [
      "\u001b[1;31m---------------------------------------------------------------------------\u001b[0m",
      "\u001b[1;31mValueError\u001b[0m                                Traceback (most recent call last)",
      "\u001b[1;32m~\\AppData\\Local\\Temp/ipykernel_30812/1771242804.py\u001b[0m in \u001b[0;36m<module>\u001b[1;34m\u001b[0m\n\u001b[0;32m     28\u001b[0m \u001b[1;31m# initialize minimization with L2 solution\u001b[0m\u001b[1;33m\u001b[0m\u001b[1;33m\u001b[0m\u001b[0m\n\u001b[0;32m     29\u001b[0m \u001b[0mx0\u001b[0m \u001b[1;33m=\u001b[0m \u001b[0mnp\u001b[0m\u001b[1;33m.\u001b[0m\u001b[0mlinalg\u001b[0m\u001b[1;33m.\u001b[0m\u001b[0mpinv\u001b[0m\u001b[1;33m(\u001b[0m\u001b[0mTheta\u001b[0m\u001b[1;33m)\u001b[0m \u001b[1;33m@\u001b[0m \u001b[0msparse_Yrand\u001b[0m\u001b[1;33m\u001b[0m\u001b[1;33m\u001b[0m\u001b[0m\n\u001b[1;32m---> 30\u001b[1;33m \u001b[0mres\u001b[0m \u001b[1;33m=\u001b[0m \u001b[0mminimize\u001b[0m\u001b[1;33m(\u001b[0m\u001b[0mL1_norm\u001b[0m\u001b[1;33m,\u001b[0m \u001b[0mx0\u001b[0m\u001b[1;33m,\u001b[0m \u001b[0mmethod\u001b[0m\u001b[1;33m=\u001b[0m\u001b[1;34m'SLSQP'\u001b[0m\u001b[1;33m,\u001b[0m \u001b[0mconstraints\u001b[0m\u001b[1;33m=\u001b[0m\u001b[0mconstr\u001b[0m\u001b[1;33m)\u001b[0m\u001b[1;33m\u001b[0m\u001b[1;33m\u001b[0m\u001b[0m\n\u001b[0m\u001b[0;32m     31\u001b[0m \u001b[0mx_L1\u001b[0m \u001b[1;33m=\u001b[0m \u001b[0mres\u001b[0m\u001b[1;33m.\u001b[0m\u001b[0mx\u001b[0m\u001b[1;33m\u001b[0m\u001b[1;33m\u001b[0m\u001b[0m\n\u001b[0;32m     32\u001b[0m \u001b[0mx_L1\u001b[0m \u001b[1;33m=\u001b[0m \u001b[0mx_L1\u001b[0m\u001b[1;33m.\u001b[0m\u001b[0mreshape\u001b[0m\u001b[1;33m(\u001b[0m\u001b[1;36m16\u001b[0m\u001b[1;33m,\u001b[0m\u001b[1;36m16\u001b[0m\u001b[1;33m)\u001b[0m\u001b[1;33m\u001b[0m\u001b[1;33m\u001b[0m\u001b[0m\n",
      "\u001b[1;32m~\\AppData\\Local\\Packages\\PythonSoftwareFoundation.Python.3.9_qbz5n2kfra8p0\\LocalCache\\local-packages\\Python39\\site-packages\\scipy\\optimize\\_minimize.py\u001b[0m in \u001b[0;36mminimize\u001b[1;34m(fun, x0, args, method, jac, hess, hessp, bounds, constraints, tol, callback, options)\u001b[0m\n\u001b[0;32m    629\u001b[0m         \u001b[1;32mreturn\u001b[0m \u001b[0m_minimize_cobyla\u001b[0m\u001b[1;33m(\u001b[0m\u001b[0mfun\u001b[0m\u001b[1;33m,\u001b[0m \u001b[0mx0\u001b[0m\u001b[1;33m,\u001b[0m \u001b[0margs\u001b[0m\u001b[1;33m,\u001b[0m \u001b[0mconstraints\u001b[0m\u001b[1;33m,\u001b[0m \u001b[1;33m**\u001b[0m\u001b[0moptions\u001b[0m\u001b[1;33m)\u001b[0m\u001b[1;33m\u001b[0m\u001b[1;33m\u001b[0m\u001b[0m\n\u001b[0;32m    630\u001b[0m     \u001b[1;32melif\u001b[0m \u001b[0mmeth\u001b[0m \u001b[1;33m==\u001b[0m \u001b[1;34m'slsqp'\u001b[0m\u001b[1;33m:\u001b[0m\u001b[1;33m\u001b[0m\u001b[1;33m\u001b[0m\u001b[0m\n\u001b[1;32m--> 631\u001b[1;33m         return _minimize_slsqp(fun, x0, args, jac, bounds,\n\u001b[0m\u001b[0;32m    632\u001b[0m                                constraints, callback=callback, **options)\n\u001b[0;32m    633\u001b[0m     \u001b[1;32melif\u001b[0m \u001b[0mmeth\u001b[0m \u001b[1;33m==\u001b[0m \u001b[1;34m'trust-constr'\u001b[0m\u001b[1;33m:\u001b[0m\u001b[1;33m\u001b[0m\u001b[1;33m\u001b[0m\u001b[0m\n",
      "\u001b[1;32m~\\AppData\\Local\\Packages\\PythonSoftwareFoundation.Python.3.9_qbz5n2kfra8p0\\LocalCache\\local-packages\\Python39\\site-packages\\scipy\\optimize\\slsqp.py\u001b[0m in \u001b[0;36m_minimize_slsqp\u001b[1;34m(func, x0, args, jac, bounds, constraints, maxiter, ftol, iprint, disp, eps, callback, finite_diff_rel_step, **unknown_options)\u001b[0m\n\u001b[0;32m    420\u001b[0m         \u001b[1;32mraise\u001b[0m \u001b[0mValueError\u001b[0m\u001b[1;33m(\u001b[0m\u001b[1;34m\"Objective function must return a scalar\"\u001b[0m\u001b[1;33m)\u001b[0m \u001b[1;32mfrom\u001b[0m \u001b[0me\u001b[0m\u001b[1;33m\u001b[0m\u001b[1;33m\u001b[0m\u001b[0m\n\u001b[0;32m    421\u001b[0m     \u001b[0mg\u001b[0m \u001b[1;33m=\u001b[0m \u001b[0mappend\u001b[0m\u001b[1;33m(\u001b[0m\u001b[0mwrapped_grad\u001b[0m\u001b[1;33m(\u001b[0m\u001b[0mx\u001b[0m\u001b[1;33m)\u001b[0m\u001b[1;33m,\u001b[0m \u001b[1;36m0.0\u001b[0m\u001b[1;33m)\u001b[0m\u001b[1;33m\u001b[0m\u001b[1;33m\u001b[0m\u001b[0m\n\u001b[1;32m--> 422\u001b[1;33m     \u001b[0mc\u001b[0m \u001b[1;33m=\u001b[0m \u001b[0m_eval_constraint\u001b[0m\u001b[1;33m(\u001b[0m\u001b[0mx\u001b[0m\u001b[1;33m,\u001b[0m \u001b[0mcons\u001b[0m\u001b[1;33m)\u001b[0m\u001b[1;33m\u001b[0m\u001b[1;33m\u001b[0m\u001b[0m\n\u001b[0m\u001b[0;32m    423\u001b[0m     \u001b[0ma\u001b[0m \u001b[1;33m=\u001b[0m \u001b[0m_eval_con_normals\u001b[0m\u001b[1;33m(\u001b[0m\u001b[0mx\u001b[0m\u001b[1;33m,\u001b[0m \u001b[0mcons\u001b[0m\u001b[1;33m,\u001b[0m \u001b[0mla\u001b[0m\u001b[1;33m,\u001b[0m \u001b[0mn\u001b[0m\u001b[1;33m,\u001b[0m \u001b[0mm\u001b[0m\u001b[1;33m,\u001b[0m \u001b[0mmeq\u001b[0m\u001b[1;33m,\u001b[0m \u001b[0mmieq\u001b[0m\u001b[1;33m)\u001b[0m\u001b[1;33m\u001b[0m\u001b[1;33m\u001b[0m\u001b[0m\n\u001b[0;32m    424\u001b[0m \u001b[1;33m\u001b[0m\u001b[0m\n",
      "\u001b[1;32m~\\AppData\\Local\\Packages\\PythonSoftwareFoundation.Python.3.9_qbz5n2kfra8p0\\LocalCache\\local-packages\\Python39\\site-packages\\scipy\\optimize\\slsqp.py\u001b[0m in \u001b[0;36m_eval_constraint\u001b[1;34m(x, cons)\u001b[0m\n\u001b[0;32m    482\u001b[0m \u001b[1;33m\u001b[0m\u001b[0m\n\u001b[0;32m    483\u001b[0m     \u001b[1;31m# Now combine c_eq and c_ieq into a single matrix\u001b[0m\u001b[1;33m\u001b[0m\u001b[1;33m\u001b[0m\u001b[0m\n\u001b[1;32m--> 484\u001b[1;33m     \u001b[0mc\u001b[0m \u001b[1;33m=\u001b[0m \u001b[0mconcatenate\u001b[0m\u001b[1;33m(\u001b[0m\u001b[1;33m(\u001b[0m\u001b[0mc_eq\u001b[0m\u001b[1;33m,\u001b[0m \u001b[0mc_ieq\u001b[0m\u001b[1;33m)\u001b[0m\u001b[1;33m)\u001b[0m\u001b[1;33m\u001b[0m\u001b[1;33m\u001b[0m\u001b[0m\n\u001b[0m\u001b[0;32m    485\u001b[0m     \u001b[1;32mreturn\u001b[0m \u001b[0mc\u001b[0m\u001b[1;33m\u001b[0m\u001b[1;33m\u001b[0m\u001b[0m\n\u001b[0;32m    486\u001b[0m \u001b[1;33m\u001b[0m\u001b[0m\n",
      "\u001b[1;32m<__array_function__ internals>\u001b[0m in \u001b[0;36mconcatenate\u001b[1;34m(*args, **kwargs)\u001b[0m\n",
      "\u001b[1;31mValueError\u001b[0m: all the input arrays must have same number of dimensions, but the array at index 0 has 2 dimension(s) and the array at index 1 has 1 dimension(s)"
     ]
    }
   ],
   "source": [
    "# Generate sparse matrices\n",
    "M = 64\n",
    "N = 256\n",
    "sparse_ind = random.sample(range(N),M)\n",
    "\n",
    "sparse_Yrand = Y_2drand[sparse_ind]\n",
    "sparse_Arand = A_2drand[sparse_ind]\n",
    "\n",
    "Phi  = sparse_Arand\n",
    "Theta = np.zeros([M,N])\n",
    "mat = np.identity(N)\n",
    "for i in range(256):\n",
    "    psi = scipy.fft.idctn(mat[i,:], type=2)\n",
    "    psi = np.transpose(psi.reshape(N))\n",
    "    Theta[:,i] = Phi@psi\n",
    "\n",
    "# Compressed Sensing Alg 1\n",
    "# Solve y = A*x for x using L1 minimum norm solution\n",
    "def L1_norm(x):\n",
    "    return np.linalg.norm(x, ord=1)\n",
    "\n",
    "# Set constraints for optimization\n",
    "constr = ({'type': 'eq', 'fun': lambda x: Theta @ x - sparse_Yrand})\n",
    "\n",
    "# initialize minimization with L2 solution\n",
    "x0 = np.linalg.pinv(Theta) @ sparse_Yrand\n",
    "res = minimize(L1_norm, x0, method='SLSQP', constraints=constr)\n",
    "x_L1 = res.x\n",
    "x_L1 = x_L1.reshape(16,16)\n",
    "\n",
    "plt.imshow(x_L1, cmap='gray')\n",
    "plt.colorbar()\n",
    "plt.show()\n"
   ]
  }
 ],
 "metadata": {
  "interpreter": {
   "hash": "1c3532f7f66afc7bbca14b0ba7480be72c58d62eb8124ebf6ff724bceb86a354"
  },
  "kernelspec": {
   "display_name": "Python 3.9.12 64-bit (windows store)",
   "language": "python",
   "name": "python3"
  },
  "language_info": {
   "codemirror_mode": {
    "name": "ipython",
    "version": 3
   },
   "file_extension": ".py",
   "mimetype": "text/x-python",
   "name": "python",
   "nbconvert_exporter": "python",
   "pygments_lexer": "ipython3",
   "version": "3.9.12"
  }
 },
 "nbformat": 4,
 "nbformat_minor": 5
}
