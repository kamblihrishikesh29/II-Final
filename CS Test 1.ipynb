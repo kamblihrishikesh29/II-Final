{
 "cells": [
  {
   "cell_type": "code",
   "execution_count": 1,
   "id": "50c8a268",
   "metadata": {},
   "outputs": [],
   "source": [
    "# Import modules\n",
    "import os\n",
    "import sys\n",
    "sys.path.append(r'..\\Hardware_src') # Make the change according to your path\n",
    "\n",
    "# Python modules for figure visualization\n",
    "import numpy as np\n",
    "import matplotlib.pyplot as plt\n",
    "import scipy\n",
    "from scipy import io\n",
    "from scipy import signal\n",
    "import math\n",
    "import cv2\n",
    "import screeninfo\n",
    "from scipy.linalg import hadamard    \n",
    "from scipy.optimize import minimize\n",
    "from pathlib import Path"
   ]
  },
  {
   "cell_type": "markdown",
   "id": "c74d5ed6",
   "metadata": {},
   "source": [
    "## 1D Identity Reconstruction"
   ]
  },
  {
   "cell_type": "code",
   "execution_count": 24,
   "id": "3fe81209",
   "metadata": {},
   "outputs": [],
   "source": [
    "# Load data\n",
    "file_path = Path(os.getcwd())\n",
    "data_path = file_path.joinpath('data')\n",
    "\n",
    "black_subtract_1d = np.loadtxt(data_path.joinpath('black_subtract_1d_59.csv'), delimiter=',')\n",
    "black_subtract_1d = black_subtract_1d.reshape(1024,1280,16)\n",
    "mask1d = np.loadtxt(data_path.joinpath('mask_1d_59.csv'), delimiter=',')\n",
    "mask1d = mask1d.reshape(16,16,16)\n",
    "scene_1d = np.loadtxt(data_path.joinpath('scene_1d_59.csv'), delimiter=',')\n",
    "scene_1d = scene_1d.reshape(1024,1280,16)"
   ]
  },
  {
   "cell_type": "code",
   "execution_count": null,
   "id": "eb8f0467",
   "metadata": {},
   "outputs": [],
   "source": [
    "# View images"
   ]
  },
  {
   "cell_type": "code",
   "execution_count": null,
   "id": "7bc240ca",
   "metadata": {},
   "outputs": [],
   "source": [
    "# Compressed Sensing Alg 1\n",
    "# Solve y = A*x for x using L1 minimum norm solution\n",
    "def L1_norm(x):\n",
    "    return np.linal.norm(x, ord=1)\n",
    "\n",
    "constr = ({'type': 'eq', 'fun': lambda x: A @ x - y})\n",
    "x0 = np.linalg.pinv(A) @ y # initialize minimization with L2 solution\n",
    "res = minimize(L1_norm, x0, method='SLSQP', constraints=constr)\n",
    "x_L1 = res.x\n",
    "\n",
    "plt.imshow(x_L1)\n",
    "plt.colorbar()\n",
    "plt.show()"
   ]
  }
 ],
 "metadata": {
  "interpreter": {
   "hash": "1c3532f7f66afc7bbca14b0ba7480be72c58d62eb8124ebf6ff724bceb86a354"
  },
  "kernelspec": {
   "display_name": "Python 3.9.12 64-bit (windows store)",
   "language": "python",
   "name": "python3"
  },
  "language_info": {
   "codemirror_mode": {
    "name": "ipython",
    "version": 3
   },
   "file_extension": ".py",
   "mimetype": "text/x-python",
   "name": "python",
   "nbconvert_exporter": "python",
   "pygments_lexer": "ipython3",
   "version": "3.9.12"
  }
 },
 "nbformat": 4,
 "nbformat_minor": 5
}
